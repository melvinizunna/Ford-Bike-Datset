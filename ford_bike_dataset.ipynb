{
 "cells": [
  {
   "cell_type": "markdown",
   "id": "257c852d",
   "metadata": {},
   "source": [
    "   ## Part 1"
   ]
  },
  {
   "cell_type": "markdown",
   "id": "565630a1",
   "metadata": {},
   "source": [
    "## Exploring the Ford-go-bike Dataset"
   ]
  },
  {
   "cell_type": "markdown",
   "id": "1cf9f1ad",
   "metadata": {},
   "source": [
    "## Data Wrangling"
   ]
  },
  {
   "cell_type": "markdown",
   "id": "5af16876",
   "metadata": {},
   "source": [
    "This data set includes information about individual rides made in a bike-sharing system for the year 2019. There are 183412 rows × 16 columns in total.In this notebook we'll be exploring and visualizing this dataset"
   ]
  },
  {
   "cell_type": "code",
   "execution_count": 1,
   "id": "4a86699a",
   "metadata": {},
   "outputs": [],
   "source": [
    "import pandas as pd\n",
    "import numpy as np\n",
    "import seaborn as sns\n",
    "import matplotlib.pyplot as plt"
   ]
  },
  {
   "cell_type": "code",
   "execution_count": 2,
   "id": "31f047fc",
   "metadata": {},
   "outputs": [
    {
     "data": {
      "text/html": [
       "<div>\n",
       "<style scoped>\n",
       "    .dataframe tbody tr th:only-of-type {\n",
       "        vertical-align: middle;\n",
       "    }\n",
       "\n",
       "    .dataframe tbody tr th {\n",
       "        vertical-align: top;\n",
       "    }\n",
       "\n",
       "    .dataframe thead th {\n",
       "        text-align: right;\n",
       "    }\n",
       "</style>\n",
       "<table border=\"1\" class=\"dataframe\">\n",
       "  <thead>\n",
       "    <tr style=\"text-align: right;\">\n",
       "      <th></th>\n",
       "      <th>duration_sec</th>\n",
       "      <th>start_time</th>\n",
       "      <th>end_time</th>\n",
       "      <th>start_station_id</th>\n",
       "      <th>start_station_name</th>\n",
       "      <th>start_station_latitude</th>\n",
       "      <th>start_station_longitude</th>\n",
       "      <th>end_station_id</th>\n",
       "      <th>end_station_name</th>\n",
       "      <th>end_station_latitude</th>\n",
       "      <th>end_station_longitude</th>\n",
       "      <th>bike_id</th>\n",
       "      <th>user_type</th>\n",
       "      <th>member_birth_year</th>\n",
       "      <th>member_gender</th>\n",
       "      <th>bike_share_for_all_trip</th>\n",
       "    </tr>\n",
       "  </thead>\n",
       "  <tbody>\n",
       "    <tr>\n",
       "      <th>0</th>\n",
       "      <td>52185</td>\n",
       "      <td>2019-02-28 17:32:10.1450</td>\n",
       "      <td>2019-03-01 08:01:55.9750</td>\n",
       "      <td>21.0</td>\n",
       "      <td>Montgomery St BART Station (Market St at 2nd St)</td>\n",
       "      <td>37.789625</td>\n",
       "      <td>-122.400811</td>\n",
       "      <td>13.0</td>\n",
       "      <td>Commercial St at Montgomery St</td>\n",
       "      <td>37.794231</td>\n",
       "      <td>-122.402923</td>\n",
       "      <td>4902</td>\n",
       "      <td>Customer</td>\n",
       "      <td>1984.0</td>\n",
       "      <td>Male</td>\n",
       "      <td>No</td>\n",
       "    </tr>\n",
       "    <tr>\n",
       "      <th>1</th>\n",
       "      <td>42521</td>\n",
       "      <td>2019-02-28 18:53:21.7890</td>\n",
       "      <td>2019-03-01 06:42:03.0560</td>\n",
       "      <td>23.0</td>\n",
       "      <td>The Embarcadero at Steuart St</td>\n",
       "      <td>37.791464</td>\n",
       "      <td>-122.391034</td>\n",
       "      <td>81.0</td>\n",
       "      <td>Berry St at 4th St</td>\n",
       "      <td>37.775880</td>\n",
       "      <td>-122.393170</td>\n",
       "      <td>2535</td>\n",
       "      <td>Customer</td>\n",
       "      <td>NaN</td>\n",
       "      <td>NaN</td>\n",
       "      <td>No</td>\n",
       "    </tr>\n",
       "    <tr>\n",
       "      <th>2</th>\n",
       "      <td>61854</td>\n",
       "      <td>2019-02-28 12:13:13.2180</td>\n",
       "      <td>2019-03-01 05:24:08.1460</td>\n",
       "      <td>86.0</td>\n",
       "      <td>Market St at Dolores St</td>\n",
       "      <td>37.769305</td>\n",
       "      <td>-122.426826</td>\n",
       "      <td>3.0</td>\n",
       "      <td>Powell St BART Station (Market St at 4th St)</td>\n",
       "      <td>37.786375</td>\n",
       "      <td>-122.404904</td>\n",
       "      <td>5905</td>\n",
       "      <td>Customer</td>\n",
       "      <td>1972.0</td>\n",
       "      <td>Male</td>\n",
       "      <td>No</td>\n",
       "    </tr>\n",
       "    <tr>\n",
       "      <th>3</th>\n",
       "      <td>36490</td>\n",
       "      <td>2019-02-28 17:54:26.0100</td>\n",
       "      <td>2019-03-01 04:02:36.8420</td>\n",
       "      <td>375.0</td>\n",
       "      <td>Grove St at Masonic Ave</td>\n",
       "      <td>37.774836</td>\n",
       "      <td>-122.446546</td>\n",
       "      <td>70.0</td>\n",
       "      <td>Central Ave at Fell St</td>\n",
       "      <td>37.773311</td>\n",
       "      <td>-122.444293</td>\n",
       "      <td>6638</td>\n",
       "      <td>Subscriber</td>\n",
       "      <td>1989.0</td>\n",
       "      <td>Other</td>\n",
       "      <td>No</td>\n",
       "    </tr>\n",
       "    <tr>\n",
       "      <th>4</th>\n",
       "      <td>1585</td>\n",
       "      <td>2019-02-28 23:54:18.5490</td>\n",
       "      <td>2019-03-01 00:20:44.0740</td>\n",
       "      <td>7.0</td>\n",
       "      <td>Frank H Ogawa Plaza</td>\n",
       "      <td>37.804562</td>\n",
       "      <td>-122.271738</td>\n",
       "      <td>222.0</td>\n",
       "      <td>10th Ave at E 15th St</td>\n",
       "      <td>37.792714</td>\n",
       "      <td>-122.248780</td>\n",
       "      <td>4898</td>\n",
       "      <td>Subscriber</td>\n",
       "      <td>1974.0</td>\n",
       "      <td>Male</td>\n",
       "      <td>Yes</td>\n",
       "    </tr>\n",
       "    <tr>\n",
       "      <th>...</th>\n",
       "      <td>...</td>\n",
       "      <td>...</td>\n",
       "      <td>...</td>\n",
       "      <td>...</td>\n",
       "      <td>...</td>\n",
       "      <td>...</td>\n",
       "      <td>...</td>\n",
       "      <td>...</td>\n",
       "      <td>...</td>\n",
       "      <td>...</td>\n",
       "      <td>...</td>\n",
       "      <td>...</td>\n",
       "      <td>...</td>\n",
       "      <td>...</td>\n",
       "      <td>...</td>\n",
       "      <td>...</td>\n",
       "    </tr>\n",
       "    <tr>\n",
       "      <th>183407</th>\n",
       "      <td>480</td>\n",
       "      <td>2019-02-01 00:04:49.7240</td>\n",
       "      <td>2019-02-01 00:12:50.0340</td>\n",
       "      <td>27.0</td>\n",
       "      <td>Beale St at Harrison St</td>\n",
       "      <td>37.788059</td>\n",
       "      <td>-122.391865</td>\n",
       "      <td>324.0</td>\n",
       "      <td>Union Square (Powell St at Post St)</td>\n",
       "      <td>37.788300</td>\n",
       "      <td>-122.408531</td>\n",
       "      <td>4832</td>\n",
       "      <td>Subscriber</td>\n",
       "      <td>1996.0</td>\n",
       "      <td>Male</td>\n",
       "      <td>No</td>\n",
       "    </tr>\n",
       "    <tr>\n",
       "      <th>183408</th>\n",
       "      <td>313</td>\n",
       "      <td>2019-02-01 00:05:34.7440</td>\n",
       "      <td>2019-02-01 00:10:48.5020</td>\n",
       "      <td>21.0</td>\n",
       "      <td>Montgomery St BART Station (Market St at 2nd St)</td>\n",
       "      <td>37.789625</td>\n",
       "      <td>-122.400811</td>\n",
       "      <td>66.0</td>\n",
       "      <td>3rd St at Townsend St</td>\n",
       "      <td>37.778742</td>\n",
       "      <td>-122.392741</td>\n",
       "      <td>4960</td>\n",
       "      <td>Subscriber</td>\n",
       "      <td>1984.0</td>\n",
       "      <td>Male</td>\n",
       "      <td>No</td>\n",
       "    </tr>\n",
       "    <tr>\n",
       "      <th>183409</th>\n",
       "      <td>141</td>\n",
       "      <td>2019-02-01 00:06:05.5490</td>\n",
       "      <td>2019-02-01 00:08:27.2200</td>\n",
       "      <td>278.0</td>\n",
       "      <td>The Alameda at Bush St</td>\n",
       "      <td>37.331932</td>\n",
       "      <td>-121.904888</td>\n",
       "      <td>277.0</td>\n",
       "      <td>Morrison Ave at Julian St</td>\n",
       "      <td>37.333658</td>\n",
       "      <td>-121.908586</td>\n",
       "      <td>3824</td>\n",
       "      <td>Subscriber</td>\n",
       "      <td>1990.0</td>\n",
       "      <td>Male</td>\n",
       "      <td>Yes</td>\n",
       "    </tr>\n",
       "    <tr>\n",
       "      <th>183410</th>\n",
       "      <td>139</td>\n",
       "      <td>2019-02-01 00:05:34.3600</td>\n",
       "      <td>2019-02-01 00:07:54.2870</td>\n",
       "      <td>220.0</td>\n",
       "      <td>San Pablo Ave at MLK Jr Way</td>\n",
       "      <td>37.811351</td>\n",
       "      <td>-122.273422</td>\n",
       "      <td>216.0</td>\n",
       "      <td>San Pablo Ave at 27th St</td>\n",
       "      <td>37.817827</td>\n",
       "      <td>-122.275698</td>\n",
       "      <td>5095</td>\n",
       "      <td>Subscriber</td>\n",
       "      <td>1988.0</td>\n",
       "      <td>Male</td>\n",
       "      <td>No</td>\n",
       "    </tr>\n",
       "    <tr>\n",
       "      <th>183411</th>\n",
       "      <td>271</td>\n",
       "      <td>2019-02-01 00:00:20.6360</td>\n",
       "      <td>2019-02-01 00:04:52.0580</td>\n",
       "      <td>24.0</td>\n",
       "      <td>Spear St at Folsom St</td>\n",
       "      <td>37.789677</td>\n",
       "      <td>-122.390428</td>\n",
       "      <td>37.0</td>\n",
       "      <td>2nd St at Folsom St</td>\n",
       "      <td>37.785000</td>\n",
       "      <td>-122.395936</td>\n",
       "      <td>1057</td>\n",
       "      <td>Subscriber</td>\n",
       "      <td>1989.0</td>\n",
       "      <td>Male</td>\n",
       "      <td>No</td>\n",
       "    </tr>\n",
       "  </tbody>\n",
       "</table>\n",
       "<p>183412 rows × 16 columns</p>\n",
       "</div>"
      ],
      "text/plain": [
       "        duration_sec                start_time                  end_time  \\\n",
       "0              52185  2019-02-28 17:32:10.1450  2019-03-01 08:01:55.9750   \n",
       "1              42521  2019-02-28 18:53:21.7890  2019-03-01 06:42:03.0560   \n",
       "2              61854  2019-02-28 12:13:13.2180  2019-03-01 05:24:08.1460   \n",
       "3              36490  2019-02-28 17:54:26.0100  2019-03-01 04:02:36.8420   \n",
       "4               1585  2019-02-28 23:54:18.5490  2019-03-01 00:20:44.0740   \n",
       "...              ...                       ...                       ...   \n",
       "183407           480  2019-02-01 00:04:49.7240  2019-02-01 00:12:50.0340   \n",
       "183408           313  2019-02-01 00:05:34.7440  2019-02-01 00:10:48.5020   \n",
       "183409           141  2019-02-01 00:06:05.5490  2019-02-01 00:08:27.2200   \n",
       "183410           139  2019-02-01 00:05:34.3600  2019-02-01 00:07:54.2870   \n",
       "183411           271  2019-02-01 00:00:20.6360  2019-02-01 00:04:52.0580   \n",
       "\n",
       "        start_station_id                                start_station_name  \\\n",
       "0                   21.0  Montgomery St BART Station (Market St at 2nd St)   \n",
       "1                   23.0                     The Embarcadero at Steuart St   \n",
       "2                   86.0                           Market St at Dolores St   \n",
       "3                  375.0                           Grove St at Masonic Ave   \n",
       "4                    7.0                               Frank H Ogawa Plaza   \n",
       "...                  ...                                               ...   \n",
       "183407              27.0                           Beale St at Harrison St   \n",
       "183408              21.0  Montgomery St BART Station (Market St at 2nd St)   \n",
       "183409             278.0                            The Alameda at Bush St   \n",
       "183410             220.0                       San Pablo Ave at MLK Jr Way   \n",
       "183411              24.0                             Spear St at Folsom St   \n",
       "\n",
       "        start_station_latitude  start_station_longitude  end_station_id  \\\n",
       "0                    37.789625              -122.400811            13.0   \n",
       "1                    37.791464              -122.391034            81.0   \n",
       "2                    37.769305              -122.426826             3.0   \n",
       "3                    37.774836              -122.446546            70.0   \n",
       "4                    37.804562              -122.271738           222.0   \n",
       "...                        ...                      ...             ...   \n",
       "183407               37.788059              -122.391865           324.0   \n",
       "183408               37.789625              -122.400811            66.0   \n",
       "183409               37.331932              -121.904888           277.0   \n",
       "183410               37.811351              -122.273422           216.0   \n",
       "183411               37.789677              -122.390428            37.0   \n",
       "\n",
       "                                    end_station_name  end_station_latitude  \\\n",
       "0                     Commercial St at Montgomery St             37.794231   \n",
       "1                                 Berry St at 4th St             37.775880   \n",
       "2       Powell St BART Station (Market St at 4th St)             37.786375   \n",
       "3                             Central Ave at Fell St             37.773311   \n",
       "4                              10th Ave at E 15th St             37.792714   \n",
       "...                                              ...                   ...   \n",
       "183407           Union Square (Powell St at Post St)             37.788300   \n",
       "183408                         3rd St at Townsend St             37.778742   \n",
       "183409                     Morrison Ave at Julian St             37.333658   \n",
       "183410                      San Pablo Ave at 27th St             37.817827   \n",
       "183411                           2nd St at Folsom St             37.785000   \n",
       "\n",
       "        end_station_longitude  bike_id   user_type  member_birth_year  \\\n",
       "0                 -122.402923     4902    Customer             1984.0   \n",
       "1                 -122.393170     2535    Customer                NaN   \n",
       "2                 -122.404904     5905    Customer             1972.0   \n",
       "3                 -122.444293     6638  Subscriber             1989.0   \n",
       "4                 -122.248780     4898  Subscriber             1974.0   \n",
       "...                       ...      ...         ...                ...   \n",
       "183407            -122.408531     4832  Subscriber             1996.0   \n",
       "183408            -122.392741     4960  Subscriber             1984.0   \n",
       "183409            -121.908586     3824  Subscriber             1990.0   \n",
       "183410            -122.275698     5095  Subscriber             1988.0   \n",
       "183411            -122.395936     1057  Subscriber             1989.0   \n",
       "\n",
       "       member_gender bike_share_for_all_trip  \n",
       "0               Male                      No  \n",
       "1                NaN                      No  \n",
       "2               Male                      No  \n",
       "3              Other                      No  \n",
       "4               Male                     Yes  \n",
       "...              ...                     ...  \n",
       "183407          Male                      No  \n",
       "183408          Male                      No  \n",
       "183409          Male                     Yes  \n",
       "183410          Male                      No  \n",
       "183411          Male                      No  \n",
       "\n",
       "[183412 rows x 16 columns]"
      ]
     },
     "execution_count": 2,
     "metadata": {},
     "output_type": "execute_result"
    }
   ],
   "source": [
    "fords=pd.read_csv(r\"C:\\Users\\ASPIRE 5\\Downloads\\201902-fordgobike-tripdata.csv\")\n",
    "ford=fords.copy()\n",
    "ford"
   ]
  },
  {
   "cell_type": "code",
   "execution_count": 3,
   "id": "15cf7d80",
   "metadata": {},
   "outputs": [
    {
     "data": {
      "text/plain": [
       "(183412, 16)"
      ]
     },
     "execution_count": 3,
     "metadata": {},
     "output_type": "execute_result"
    }
   ],
   "source": [
    "ford.shape"
   ]
  },
  {
   "cell_type": "code",
   "execution_count": 4,
   "id": "b1ca6be5",
   "metadata": {},
   "outputs": [
    {
     "data": {
      "text/plain": [
       "duration_sec                  0\n",
       "start_time                    0\n",
       "end_time                      0\n",
       "start_station_id            197\n",
       "start_station_name          197\n",
       "start_station_latitude        0\n",
       "start_station_longitude       0\n",
       "end_station_id              197\n",
       "end_station_name            197\n",
       "end_station_latitude          0\n",
       "end_station_longitude         0\n",
       "bike_id                       0\n",
       "user_type                     0\n",
       "member_birth_year          8265\n",
       "member_gender              8265\n",
       "bike_share_for_all_trip       0\n",
       "dtype: int64"
      ]
     },
     "execution_count": 4,
     "metadata": {},
     "output_type": "execute_result"
    }
   ],
   "source": [
    "#Number of empty rows in each column\n",
    "fords.isna().sum()"
   ]
  },
  {
   "cell_type": "code",
   "execution_count": 5,
   "id": "ac61539a",
   "metadata": {},
   "outputs": [],
   "source": [
    "#removing the microsecond in the start_time and end_time \n",
    "ford['start_time']=pd.DatetimeIndex(ford['start_time']).floor('S')\n",
    "ford['end_time']=pd.DatetimeIndex(ford['end_time']).floor('S')\n",
    "\n",
    "#converting the date and time from the start_time & end_time columns\n",
    "ford['start_time']=pd.to_datetime(ford['start_time'])\n",
    "ford['end_time']=pd.to_datetime(ford['end_time'])\n",
    "\n",
    "#extracting the end and start years\n",
    "ford['start_year']=ford['start_time'].dt.year\n",
    "ford['end_year']=ford['end_time'].dt.year\n",
    "\n",
    "\n",
    "#extrating the months\n",
    "ford['start_month']=ford['start_time'].dt.month\n",
    "ford['end_month']=ford['end_time'].dt.month\n",
    "\n",
    "\n",
    "#extracting the date\n",
    "ford['start_date']=ford['start_time'].dt.date.astype(str)\n",
    "ford['end_date']=ford['end_time'].dt.date.astype(str)\n",
    "\n",
    "\n",
    "\n",
    "#extracting the day\n",
    "ford['start_day']=ford['start_time'].dt.strftime(\"%a\").astype(str)\n",
    "ford['end_day']=ford['end_time'].dt.strftime('%a').astype(str)\n",
    "\n",
    "\n",
    "#extracted the time values\n",
    "ford['start_timee']=ford['start_time'].dt.time.astype(str)\n",
    "ford['end_timee']=ford['end_time'].dt.time.astype(str)\n",
    "\n",
    "ford['start_h']=ford['end_time']-ford['start_time']\n",
    "\n",
    "\n",
    "#day difference\n",
    "\n",
    "\n",
    "\n",
    "#findidng the duration in minutes from duration_sec\n",
    "ford['minute_duration']=ford['duration_sec']/60\n",
    "\n",
    "\n",
    "#creating an age column from 'member_birth_year' up to 2019\n",
    "ford['member_age']=2019-ford['member_birth_year']\n",
    "\n",
    "\n",
    "\n",
    "#dropping empty rows in all columns \n",
    "ford.dropna(inplace=True)\n",
    "\n",
    "\n",
    "\n",
    "\n",
    "\n",
    "\n",
    "#dropping irrelevnt columns\n",
    "ford.drop(columns=['start_year','end_year','start_time','end_time','start_station_latitude','start_station_longitude','end_station_longitude','end_station_latitude'],inplace=True)\n"
   ]
  },
  {
   "cell_type": "code",
   "execution_count": 6,
   "id": "321961ac",
   "metadata": {},
   "outputs": [
    {
     "data": {
      "text/plain": [
       "Sat    14414\n",
       "Sun    14512\n",
       "Mon    25641\n",
       "Fri    27663\n",
       "Wed    28426\n",
       "Tue    30584\n",
       "Thu    33712\n",
       "Name: start_day, dtype: int64"
      ]
     },
     "execution_count": 6,
     "metadata": {},
     "output_type": "execute_result"
    }
   ],
   "source": [
    "ford.isna().sum()\n",
    "ford['start_day'].value_counts(ascending=True)"
   ]
  },
  {
   "cell_type": "code",
   "execution_count": 7,
   "id": "a4531073",
   "metadata": {
    "scrolled": true
   },
   "outputs": [
    {
     "name": "stdout",
     "output_type": "stream",
     "text": [
      "<class 'pandas.core.frame.DataFrame'>\n",
      "Int64Index: 174952 entries, 0 to 183411\n",
      "Data columns (total 21 columns):\n",
      " #   Column                   Non-Null Count   Dtype          \n",
      "---  ------                   --------------   -----          \n",
      " 0   duration_sec             174952 non-null  int64          \n",
      " 1   start_station_id         174952 non-null  float64        \n",
      " 2   start_station_name       174952 non-null  object         \n",
      " 3   end_station_id           174952 non-null  float64        \n",
      " 4   end_station_name         174952 non-null  object         \n",
      " 5   bike_id                  174952 non-null  int64          \n",
      " 6   user_type                174952 non-null  object         \n",
      " 7   member_birth_year        174952 non-null  int32          \n",
      " 8   member_gender            174952 non-null  object         \n",
      " 9   bike_share_for_all_trip  174952 non-null  object         \n",
      " 10  start_month              174952 non-null  int64          \n",
      " 11  end_month                174952 non-null  int64          \n",
      " 12  start_date               174952 non-null  object         \n",
      " 13  end_date                 174952 non-null  object         \n",
      " 14  start_day                174952 non-null  object         \n",
      " 15  end_day                  174952 non-null  object         \n",
      " 16  start_timee              174952 non-null  object         \n",
      " 17  end_timee                174952 non-null  object         \n",
      " 18  start_h                  174952 non-null  timedelta64[ns]\n",
      " 19  minute_duration          174952 non-null  float64        \n",
      " 20  member_age               174952 non-null  int32          \n",
      "dtypes: float64(3), int32(2), int64(4), object(11), timedelta64[ns](1)\n",
      "memory usage: 28.0+ MB\n"
     ]
    },
    {
     "data": {
      "text/html": [
       "<div>\n",
       "<style scoped>\n",
       "    .dataframe tbody tr th:only-of-type {\n",
       "        vertical-align: middle;\n",
       "    }\n",
       "\n",
       "    .dataframe tbody tr th {\n",
       "        vertical-align: top;\n",
       "    }\n",
       "\n",
       "    .dataframe thead th {\n",
       "        text-align: right;\n",
       "    }\n",
       "</style>\n",
       "<table border=\"1\" class=\"dataframe\">\n",
       "  <thead>\n",
       "    <tr style=\"text-align: right;\">\n",
       "      <th></th>\n",
       "      <th>duration_sec</th>\n",
       "      <th>start_station_id</th>\n",
       "      <th>start_station_name</th>\n",
       "      <th>end_station_id</th>\n",
       "      <th>end_station_name</th>\n",
       "      <th>bike_id</th>\n",
       "      <th>user_type</th>\n",
       "      <th>member_birth_year</th>\n",
       "      <th>member_gender</th>\n",
       "      <th>bike_share_for_all_trip</th>\n",
       "      <th>...</th>\n",
       "      <th>end_month</th>\n",
       "      <th>start_date</th>\n",
       "      <th>end_date</th>\n",
       "      <th>start_day</th>\n",
       "      <th>end_day</th>\n",
       "      <th>start_timee</th>\n",
       "      <th>end_timee</th>\n",
       "      <th>start_h</th>\n",
       "      <th>minute_duration</th>\n",
       "      <th>member_age</th>\n",
       "    </tr>\n",
       "  </thead>\n",
       "  <tbody>\n",
       "    <tr>\n",
       "      <th>0</th>\n",
       "      <td>52185</td>\n",
       "      <td>21.0</td>\n",
       "      <td>Montgomery St BART Station (Market St at 2nd St)</td>\n",
       "      <td>13.0</td>\n",
       "      <td>Commercial St at Montgomery St</td>\n",
       "      <td>4902</td>\n",
       "      <td>Customer</td>\n",
       "      <td>1984</td>\n",
       "      <td>Male</td>\n",
       "      <td>No</td>\n",
       "      <td>...</td>\n",
       "      <td>3</td>\n",
       "      <td>2019-02-28</td>\n",
       "      <td>2019-03-01</td>\n",
       "      <td>Thu</td>\n",
       "      <td>Fri</td>\n",
       "      <td>17:32:10</td>\n",
       "      <td>08:01:55</td>\n",
       "      <td>0 days 14:29:45</td>\n",
       "      <td>869.750000</td>\n",
       "      <td>35</td>\n",
       "    </tr>\n",
       "    <tr>\n",
       "      <th>2</th>\n",
       "      <td>61854</td>\n",
       "      <td>86.0</td>\n",
       "      <td>Market St at Dolores St</td>\n",
       "      <td>3.0</td>\n",
       "      <td>Powell St BART Station (Market St at 4th St)</td>\n",
       "      <td>5905</td>\n",
       "      <td>Customer</td>\n",
       "      <td>1972</td>\n",
       "      <td>Male</td>\n",
       "      <td>No</td>\n",
       "      <td>...</td>\n",
       "      <td>3</td>\n",
       "      <td>2019-02-28</td>\n",
       "      <td>2019-03-01</td>\n",
       "      <td>Thu</td>\n",
       "      <td>Fri</td>\n",
       "      <td>12:13:13</td>\n",
       "      <td>05:24:08</td>\n",
       "      <td>0 days 17:10:55</td>\n",
       "      <td>1030.900000</td>\n",
       "      <td>47</td>\n",
       "    </tr>\n",
       "    <tr>\n",
       "      <th>3</th>\n",
       "      <td>36490</td>\n",
       "      <td>375.0</td>\n",
       "      <td>Grove St at Masonic Ave</td>\n",
       "      <td>70.0</td>\n",
       "      <td>Central Ave at Fell St</td>\n",
       "      <td>6638</td>\n",
       "      <td>Subscriber</td>\n",
       "      <td>1989</td>\n",
       "      <td>Other</td>\n",
       "      <td>No</td>\n",
       "      <td>...</td>\n",
       "      <td>3</td>\n",
       "      <td>2019-02-28</td>\n",
       "      <td>2019-03-01</td>\n",
       "      <td>Thu</td>\n",
       "      <td>Fri</td>\n",
       "      <td>17:54:26</td>\n",
       "      <td>04:02:36</td>\n",
       "      <td>0 days 10:08:10</td>\n",
       "      <td>608.166667</td>\n",
       "      <td>30</td>\n",
       "    </tr>\n",
       "    <tr>\n",
       "      <th>4</th>\n",
       "      <td>1585</td>\n",
       "      <td>7.0</td>\n",
       "      <td>Frank H Ogawa Plaza</td>\n",
       "      <td>222.0</td>\n",
       "      <td>10th Ave at E 15th St</td>\n",
       "      <td>4898</td>\n",
       "      <td>Subscriber</td>\n",
       "      <td>1974</td>\n",
       "      <td>Male</td>\n",
       "      <td>Yes</td>\n",
       "      <td>...</td>\n",
       "      <td>3</td>\n",
       "      <td>2019-02-28</td>\n",
       "      <td>2019-03-01</td>\n",
       "      <td>Thu</td>\n",
       "      <td>Fri</td>\n",
       "      <td>23:54:18</td>\n",
       "      <td>00:20:44</td>\n",
       "      <td>0 days 00:26:26</td>\n",
       "      <td>26.416667</td>\n",
       "      <td>45</td>\n",
       "    </tr>\n",
       "    <tr>\n",
       "      <th>5</th>\n",
       "      <td>1793</td>\n",
       "      <td>93.0</td>\n",
       "      <td>4th St at Mission Bay Blvd S</td>\n",
       "      <td>323.0</td>\n",
       "      <td>Broadway at Kearny</td>\n",
       "      <td>5200</td>\n",
       "      <td>Subscriber</td>\n",
       "      <td>1959</td>\n",
       "      <td>Male</td>\n",
       "      <td>No</td>\n",
       "      <td>...</td>\n",
       "      <td>3</td>\n",
       "      <td>2019-02-28</td>\n",
       "      <td>2019-03-01</td>\n",
       "      <td>Thu</td>\n",
       "      <td>Fri</td>\n",
       "      <td>23:49:58</td>\n",
       "      <td>00:19:51</td>\n",
       "      <td>0 days 00:29:53</td>\n",
       "      <td>29.883333</td>\n",
       "      <td>60</td>\n",
       "    </tr>\n",
       "    <tr>\n",
       "      <th>...</th>\n",
       "      <td>...</td>\n",
       "      <td>...</td>\n",
       "      <td>...</td>\n",
       "      <td>...</td>\n",
       "      <td>...</td>\n",
       "      <td>...</td>\n",
       "      <td>...</td>\n",
       "      <td>...</td>\n",
       "      <td>...</td>\n",
       "      <td>...</td>\n",
       "      <td>...</td>\n",
       "      <td>...</td>\n",
       "      <td>...</td>\n",
       "      <td>...</td>\n",
       "      <td>...</td>\n",
       "      <td>...</td>\n",
       "      <td>...</td>\n",
       "      <td>...</td>\n",
       "      <td>...</td>\n",
       "      <td>...</td>\n",
       "      <td>...</td>\n",
       "    </tr>\n",
       "    <tr>\n",
       "      <th>183407</th>\n",
       "      <td>480</td>\n",
       "      <td>27.0</td>\n",
       "      <td>Beale St at Harrison St</td>\n",
       "      <td>324.0</td>\n",
       "      <td>Union Square (Powell St at Post St)</td>\n",
       "      <td>4832</td>\n",
       "      <td>Subscriber</td>\n",
       "      <td>1996</td>\n",
       "      <td>Male</td>\n",
       "      <td>No</td>\n",
       "      <td>...</td>\n",
       "      <td>2</td>\n",
       "      <td>2019-02-01</td>\n",
       "      <td>2019-02-01</td>\n",
       "      <td>Fri</td>\n",
       "      <td>Fri</td>\n",
       "      <td>00:04:49</td>\n",
       "      <td>00:12:50</td>\n",
       "      <td>0 days 00:08:01</td>\n",
       "      <td>8.000000</td>\n",
       "      <td>23</td>\n",
       "    </tr>\n",
       "    <tr>\n",
       "      <th>183408</th>\n",
       "      <td>313</td>\n",
       "      <td>21.0</td>\n",
       "      <td>Montgomery St BART Station (Market St at 2nd St)</td>\n",
       "      <td>66.0</td>\n",
       "      <td>3rd St at Townsend St</td>\n",
       "      <td>4960</td>\n",
       "      <td>Subscriber</td>\n",
       "      <td>1984</td>\n",
       "      <td>Male</td>\n",
       "      <td>No</td>\n",
       "      <td>...</td>\n",
       "      <td>2</td>\n",
       "      <td>2019-02-01</td>\n",
       "      <td>2019-02-01</td>\n",
       "      <td>Fri</td>\n",
       "      <td>Fri</td>\n",
       "      <td>00:05:34</td>\n",
       "      <td>00:10:48</td>\n",
       "      <td>0 days 00:05:14</td>\n",
       "      <td>5.216667</td>\n",
       "      <td>35</td>\n",
       "    </tr>\n",
       "    <tr>\n",
       "      <th>183409</th>\n",
       "      <td>141</td>\n",
       "      <td>278.0</td>\n",
       "      <td>The Alameda at Bush St</td>\n",
       "      <td>277.0</td>\n",
       "      <td>Morrison Ave at Julian St</td>\n",
       "      <td>3824</td>\n",
       "      <td>Subscriber</td>\n",
       "      <td>1990</td>\n",
       "      <td>Male</td>\n",
       "      <td>Yes</td>\n",
       "      <td>...</td>\n",
       "      <td>2</td>\n",
       "      <td>2019-02-01</td>\n",
       "      <td>2019-02-01</td>\n",
       "      <td>Fri</td>\n",
       "      <td>Fri</td>\n",
       "      <td>00:06:05</td>\n",
       "      <td>00:08:27</td>\n",
       "      <td>0 days 00:02:22</td>\n",
       "      <td>2.350000</td>\n",
       "      <td>29</td>\n",
       "    </tr>\n",
       "    <tr>\n",
       "      <th>183410</th>\n",
       "      <td>139</td>\n",
       "      <td>220.0</td>\n",
       "      <td>San Pablo Ave at MLK Jr Way</td>\n",
       "      <td>216.0</td>\n",
       "      <td>San Pablo Ave at 27th St</td>\n",
       "      <td>5095</td>\n",
       "      <td>Subscriber</td>\n",
       "      <td>1988</td>\n",
       "      <td>Male</td>\n",
       "      <td>No</td>\n",
       "      <td>...</td>\n",
       "      <td>2</td>\n",
       "      <td>2019-02-01</td>\n",
       "      <td>2019-02-01</td>\n",
       "      <td>Fri</td>\n",
       "      <td>Fri</td>\n",
       "      <td>00:05:34</td>\n",
       "      <td>00:07:54</td>\n",
       "      <td>0 days 00:02:20</td>\n",
       "      <td>2.316667</td>\n",
       "      <td>31</td>\n",
       "    </tr>\n",
       "    <tr>\n",
       "      <th>183411</th>\n",
       "      <td>271</td>\n",
       "      <td>24.0</td>\n",
       "      <td>Spear St at Folsom St</td>\n",
       "      <td>37.0</td>\n",
       "      <td>2nd St at Folsom St</td>\n",
       "      <td>1057</td>\n",
       "      <td>Subscriber</td>\n",
       "      <td>1989</td>\n",
       "      <td>Male</td>\n",
       "      <td>No</td>\n",
       "      <td>...</td>\n",
       "      <td>2</td>\n",
       "      <td>2019-02-01</td>\n",
       "      <td>2019-02-01</td>\n",
       "      <td>Fri</td>\n",
       "      <td>Fri</td>\n",
       "      <td>00:00:20</td>\n",
       "      <td>00:04:52</td>\n",
       "      <td>0 days 00:04:32</td>\n",
       "      <td>4.516667</td>\n",
       "      <td>30</td>\n",
       "    </tr>\n",
       "  </tbody>\n",
       "</table>\n",
       "<p>174952 rows × 21 columns</p>\n",
       "</div>"
      ],
      "text/plain": [
       "        duration_sec  start_station_id  \\\n",
       "0              52185              21.0   \n",
       "2              61854              86.0   \n",
       "3              36490             375.0   \n",
       "4               1585               7.0   \n",
       "5               1793              93.0   \n",
       "...              ...               ...   \n",
       "183407           480              27.0   \n",
       "183408           313              21.0   \n",
       "183409           141             278.0   \n",
       "183410           139             220.0   \n",
       "183411           271              24.0   \n",
       "\n",
       "                                      start_station_name  end_station_id  \\\n",
       "0       Montgomery St BART Station (Market St at 2nd St)            13.0   \n",
       "2                                Market St at Dolores St             3.0   \n",
       "3                                Grove St at Masonic Ave            70.0   \n",
       "4                                    Frank H Ogawa Plaza           222.0   \n",
       "5                           4th St at Mission Bay Blvd S           323.0   \n",
       "...                                                  ...             ...   \n",
       "183407                           Beale St at Harrison St           324.0   \n",
       "183408  Montgomery St BART Station (Market St at 2nd St)            66.0   \n",
       "183409                            The Alameda at Bush St           277.0   \n",
       "183410                       San Pablo Ave at MLK Jr Way           216.0   \n",
       "183411                             Spear St at Folsom St            37.0   \n",
       "\n",
       "                                    end_station_name  bike_id   user_type  \\\n",
       "0                     Commercial St at Montgomery St     4902    Customer   \n",
       "2       Powell St BART Station (Market St at 4th St)     5905    Customer   \n",
       "3                             Central Ave at Fell St     6638  Subscriber   \n",
       "4                              10th Ave at E 15th St     4898  Subscriber   \n",
       "5                                 Broadway at Kearny     5200  Subscriber   \n",
       "...                                              ...      ...         ...   \n",
       "183407           Union Square (Powell St at Post St)     4832  Subscriber   \n",
       "183408                         3rd St at Townsend St     4960  Subscriber   \n",
       "183409                     Morrison Ave at Julian St     3824  Subscriber   \n",
       "183410                      San Pablo Ave at 27th St     5095  Subscriber   \n",
       "183411                           2nd St at Folsom St     1057  Subscriber   \n",
       "\n",
       "        member_birth_year member_gender bike_share_for_all_trip  ...  \\\n",
       "0                    1984          Male                      No  ...   \n",
       "2                    1972          Male                      No  ...   \n",
       "3                    1989         Other                      No  ...   \n",
       "4                    1974          Male                     Yes  ...   \n",
       "5                    1959          Male                      No  ...   \n",
       "...                   ...           ...                     ...  ...   \n",
       "183407               1996          Male                      No  ...   \n",
       "183408               1984          Male                      No  ...   \n",
       "183409               1990          Male                     Yes  ...   \n",
       "183410               1988          Male                      No  ...   \n",
       "183411               1989          Male                      No  ...   \n",
       "\n",
       "        end_month  start_date    end_date start_day end_day start_timee  \\\n",
       "0               3  2019-02-28  2019-03-01       Thu     Fri    17:32:10   \n",
       "2               3  2019-02-28  2019-03-01       Thu     Fri    12:13:13   \n",
       "3               3  2019-02-28  2019-03-01       Thu     Fri    17:54:26   \n",
       "4               3  2019-02-28  2019-03-01       Thu     Fri    23:54:18   \n",
       "5               3  2019-02-28  2019-03-01       Thu     Fri    23:49:58   \n",
       "...           ...         ...         ...       ...     ...         ...   \n",
       "183407          2  2019-02-01  2019-02-01       Fri     Fri    00:04:49   \n",
       "183408          2  2019-02-01  2019-02-01       Fri     Fri    00:05:34   \n",
       "183409          2  2019-02-01  2019-02-01       Fri     Fri    00:06:05   \n",
       "183410          2  2019-02-01  2019-02-01       Fri     Fri    00:05:34   \n",
       "183411          2  2019-02-01  2019-02-01       Fri     Fri    00:00:20   \n",
       "\n",
       "       end_timee         start_h minute_duration  member_age  \n",
       "0       08:01:55 0 days 14:29:45      869.750000          35  \n",
       "2       05:24:08 0 days 17:10:55     1030.900000          47  \n",
       "3       04:02:36 0 days 10:08:10      608.166667          30  \n",
       "4       00:20:44 0 days 00:26:26       26.416667          45  \n",
       "5       00:19:51 0 days 00:29:53       29.883333          60  \n",
       "...          ...             ...             ...         ...  \n",
       "183407  00:12:50 0 days 00:08:01        8.000000          23  \n",
       "183408  00:10:48 0 days 00:05:14        5.216667          35  \n",
       "183409  00:08:27 0 days 00:02:22        2.350000          29  \n",
       "183410  00:07:54 0 days 00:02:20        2.316667          31  \n",
       "183411  00:04:52 0 days 00:04:32        4.516667          30  \n",
       "\n",
       "[174952 rows x 21 columns]"
      ]
     },
     "execution_count": 7,
     "metadata": {},
     "output_type": "execute_result"
    }
   ],
   "source": [
    "#converting age,start_station_id,end_station_id,member_age,\n",
    "#converting rows to int for easier analysis\n",
    "ford['member_birth_year']=round(ford['member_birth_year'].astype(int),1)\n",
    "ford['member_age']=round(ford['member_age'].astype(int),1)\n",
    "\n",
    "#checking the column types and if there are missing values\n",
    "ford.info()\n",
    "\n",
    "#checking total number of empty rows\n",
    "ford.isnull().sum()\n",
    "\n",
    "\n",
    "#dropping empty rows in all columns \n",
    "ford.dropna(inplace=True)\n",
    "\n",
    "\n",
    "#checking to see if the change was made\n",
    "ford.isnull().sum()\n",
    "\n",
    "ford\n"
   ]
  },
  {
   "cell_type": "code",
   "execution_count": 8,
   "id": "efcb67a6",
   "metadata": {},
   "outputs": [],
   "source": [
    "#who took more rides\n",
    "#group then by night anad day\n",
    "#then plot their percentage on a pie chart\n",
    "#write a function to seperate the night and day time.\n",
    "def funn(x):\n",
    "    if (x >= '05:00:00') & (x <= '12:00:00'):\n",
    "        return 'Morning'\n",
    "    elif (x >='12:01:01') & (x <= '16:00:00'):\n",
    "        return 'Afternoon'\n",
    "    elif (x >= '16:01:01') & (x <= '23:59:00'):\n",
    "        return 'Night'\n",
    "    elif (x >= '00:00:01') & (x <= '04:59:59'):\n",
    "        return 'Mid-Night'"
   ]
  },
  {
   "cell_type": "code",
   "execution_count": 9,
   "id": "2d1beadc",
   "metadata": {},
   "outputs": [],
   "source": [
    "#creqating a function to filter out the ages in the member_age column and categorizing them\n",
    "def funf(x):\n",
    "    if  (x>=0) & (x <= 13):\n",
    "        return 'Child'\n",
    "    elif (x >= 14) & (x <= 24):\n",
    "        return 'Adolescent'\n",
    "    elif (x >=25) & (x <=45):\n",
    "        return 'Young adult'\n",
    "    elif (x >= 46) & (x <= 64):\n",
    "        return 'Older Adult'\n",
    "    elif (x >= 65) & (x <= 100):\n",
    "        return 'Post_war'"
   ]
  },
  {
   "cell_type": "code",
   "execution_count": 10,
   "id": "4f8821cc",
   "metadata": {},
   "outputs": [
    {
     "data": {
      "text/html": [
       "<div>\n",
       "<style scoped>\n",
       "    .dataframe tbody tr th:only-of-type {\n",
       "        vertical-align: middle;\n",
       "    }\n",
       "\n",
       "    .dataframe tbody tr th {\n",
       "        vertical-align: top;\n",
       "    }\n",
       "\n",
       "    .dataframe thead th {\n",
       "        text-align: right;\n",
       "    }\n",
       "</style>\n",
       "<table border=\"1\" class=\"dataframe\">\n",
       "  <thead>\n",
       "    <tr style=\"text-align: right;\">\n",
       "      <th></th>\n",
       "      <th>duration_sec</th>\n",
       "      <th>start_station_id</th>\n",
       "      <th>start_station_name</th>\n",
       "      <th>end_station_id</th>\n",
       "      <th>end_station_name</th>\n",
       "      <th>bike_id</th>\n",
       "      <th>user_type</th>\n",
       "      <th>member_birth_year</th>\n",
       "      <th>member_gender</th>\n",
       "      <th>bike_share_for_all_trip</th>\n",
       "      <th>...</th>\n",
       "      <th>start_date</th>\n",
       "      <th>end_date</th>\n",
       "      <th>start_day</th>\n",
       "      <th>end_day</th>\n",
       "      <th>start_timee</th>\n",
       "      <th>end_timee</th>\n",
       "      <th>start_h</th>\n",
       "      <th>minute_duration</th>\n",
       "      <th>member_age</th>\n",
       "      <th>age_group</th>\n",
       "    </tr>\n",
       "  </thead>\n",
       "  <tbody>\n",
       "    <tr>\n",
       "      <th>0</th>\n",
       "      <td>52185</td>\n",
       "      <td>21.0</td>\n",
       "      <td>Montgomery St BART Station (Market St at 2nd St)</td>\n",
       "      <td>13.0</td>\n",
       "      <td>Commercial St at Montgomery St</td>\n",
       "      <td>4902</td>\n",
       "      <td>Customer</td>\n",
       "      <td>1984</td>\n",
       "      <td>Male</td>\n",
       "      <td>No</td>\n",
       "      <td>...</td>\n",
       "      <td>2019-02-28</td>\n",
       "      <td>2019-03-01</td>\n",
       "      <td>Thu</td>\n",
       "      <td>Fri</td>\n",
       "      <td>17:32:10</td>\n",
       "      <td>08:01:55</td>\n",
       "      <td>0 days 14:29:45</td>\n",
       "      <td>869.750000</td>\n",
       "      <td>35</td>\n",
       "      <td>Young adult</td>\n",
       "    </tr>\n",
       "    <tr>\n",
       "      <th>2</th>\n",
       "      <td>61854</td>\n",
       "      <td>86.0</td>\n",
       "      <td>Market St at Dolores St</td>\n",
       "      <td>3.0</td>\n",
       "      <td>Powell St BART Station (Market St at 4th St)</td>\n",
       "      <td>5905</td>\n",
       "      <td>Customer</td>\n",
       "      <td>1972</td>\n",
       "      <td>Male</td>\n",
       "      <td>No</td>\n",
       "      <td>...</td>\n",
       "      <td>2019-02-28</td>\n",
       "      <td>2019-03-01</td>\n",
       "      <td>Thu</td>\n",
       "      <td>Fri</td>\n",
       "      <td>12:13:13</td>\n",
       "      <td>05:24:08</td>\n",
       "      <td>0 days 17:10:55</td>\n",
       "      <td>1030.900000</td>\n",
       "      <td>47</td>\n",
       "      <td>Older Adult</td>\n",
       "    </tr>\n",
       "    <tr>\n",
       "      <th>3</th>\n",
       "      <td>36490</td>\n",
       "      <td>375.0</td>\n",
       "      <td>Grove St at Masonic Ave</td>\n",
       "      <td>70.0</td>\n",
       "      <td>Central Ave at Fell St</td>\n",
       "      <td>6638</td>\n",
       "      <td>Subscriber</td>\n",
       "      <td>1989</td>\n",
       "      <td>Other</td>\n",
       "      <td>No</td>\n",
       "      <td>...</td>\n",
       "      <td>2019-02-28</td>\n",
       "      <td>2019-03-01</td>\n",
       "      <td>Thu</td>\n",
       "      <td>Fri</td>\n",
       "      <td>17:54:26</td>\n",
       "      <td>04:02:36</td>\n",
       "      <td>0 days 10:08:10</td>\n",
       "      <td>608.166667</td>\n",
       "      <td>30</td>\n",
       "      <td>Young adult</td>\n",
       "    </tr>\n",
       "    <tr>\n",
       "      <th>4</th>\n",
       "      <td>1585</td>\n",
       "      <td>7.0</td>\n",
       "      <td>Frank H Ogawa Plaza</td>\n",
       "      <td>222.0</td>\n",
       "      <td>10th Ave at E 15th St</td>\n",
       "      <td>4898</td>\n",
       "      <td>Subscriber</td>\n",
       "      <td>1974</td>\n",
       "      <td>Male</td>\n",
       "      <td>Yes</td>\n",
       "      <td>...</td>\n",
       "      <td>2019-02-28</td>\n",
       "      <td>2019-03-01</td>\n",
       "      <td>Thu</td>\n",
       "      <td>Fri</td>\n",
       "      <td>23:54:18</td>\n",
       "      <td>00:20:44</td>\n",
       "      <td>0 days 00:26:26</td>\n",
       "      <td>26.416667</td>\n",
       "      <td>45</td>\n",
       "      <td>Young adult</td>\n",
       "    </tr>\n",
       "    <tr>\n",
       "      <th>5</th>\n",
       "      <td>1793</td>\n",
       "      <td>93.0</td>\n",
       "      <td>4th St at Mission Bay Blvd S</td>\n",
       "      <td>323.0</td>\n",
       "      <td>Broadway at Kearny</td>\n",
       "      <td>5200</td>\n",
       "      <td>Subscriber</td>\n",
       "      <td>1959</td>\n",
       "      <td>Male</td>\n",
       "      <td>No</td>\n",
       "      <td>...</td>\n",
       "      <td>2019-02-28</td>\n",
       "      <td>2019-03-01</td>\n",
       "      <td>Thu</td>\n",
       "      <td>Fri</td>\n",
       "      <td>23:49:58</td>\n",
       "      <td>00:19:51</td>\n",
       "      <td>0 days 00:29:53</td>\n",
       "      <td>29.883333</td>\n",
       "      <td>60</td>\n",
       "      <td>Older Adult</td>\n",
       "    </tr>\n",
       "    <tr>\n",
       "      <th>...</th>\n",
       "      <td>...</td>\n",
       "      <td>...</td>\n",
       "      <td>...</td>\n",
       "      <td>...</td>\n",
       "      <td>...</td>\n",
       "      <td>...</td>\n",
       "      <td>...</td>\n",
       "      <td>...</td>\n",
       "      <td>...</td>\n",
       "      <td>...</td>\n",
       "      <td>...</td>\n",
       "      <td>...</td>\n",
       "      <td>...</td>\n",
       "      <td>...</td>\n",
       "      <td>...</td>\n",
       "      <td>...</td>\n",
       "      <td>...</td>\n",
       "      <td>...</td>\n",
       "      <td>...</td>\n",
       "      <td>...</td>\n",
       "      <td>...</td>\n",
       "    </tr>\n",
       "    <tr>\n",
       "      <th>183407</th>\n",
       "      <td>480</td>\n",
       "      <td>27.0</td>\n",
       "      <td>Beale St at Harrison St</td>\n",
       "      <td>324.0</td>\n",
       "      <td>Union Square (Powell St at Post St)</td>\n",
       "      <td>4832</td>\n",
       "      <td>Subscriber</td>\n",
       "      <td>1996</td>\n",
       "      <td>Male</td>\n",
       "      <td>No</td>\n",
       "      <td>...</td>\n",
       "      <td>2019-02-01</td>\n",
       "      <td>2019-02-01</td>\n",
       "      <td>Fri</td>\n",
       "      <td>Fri</td>\n",
       "      <td>00:04:49</td>\n",
       "      <td>00:12:50</td>\n",
       "      <td>0 days 00:08:01</td>\n",
       "      <td>8.000000</td>\n",
       "      <td>23</td>\n",
       "      <td>Adolescent</td>\n",
       "    </tr>\n",
       "    <tr>\n",
       "      <th>183408</th>\n",
       "      <td>313</td>\n",
       "      <td>21.0</td>\n",
       "      <td>Montgomery St BART Station (Market St at 2nd St)</td>\n",
       "      <td>66.0</td>\n",
       "      <td>3rd St at Townsend St</td>\n",
       "      <td>4960</td>\n",
       "      <td>Subscriber</td>\n",
       "      <td>1984</td>\n",
       "      <td>Male</td>\n",
       "      <td>No</td>\n",
       "      <td>...</td>\n",
       "      <td>2019-02-01</td>\n",
       "      <td>2019-02-01</td>\n",
       "      <td>Fri</td>\n",
       "      <td>Fri</td>\n",
       "      <td>00:05:34</td>\n",
       "      <td>00:10:48</td>\n",
       "      <td>0 days 00:05:14</td>\n",
       "      <td>5.216667</td>\n",
       "      <td>35</td>\n",
       "      <td>Young adult</td>\n",
       "    </tr>\n",
       "    <tr>\n",
       "      <th>183409</th>\n",
       "      <td>141</td>\n",
       "      <td>278.0</td>\n",
       "      <td>The Alameda at Bush St</td>\n",
       "      <td>277.0</td>\n",
       "      <td>Morrison Ave at Julian St</td>\n",
       "      <td>3824</td>\n",
       "      <td>Subscriber</td>\n",
       "      <td>1990</td>\n",
       "      <td>Male</td>\n",
       "      <td>Yes</td>\n",
       "      <td>...</td>\n",
       "      <td>2019-02-01</td>\n",
       "      <td>2019-02-01</td>\n",
       "      <td>Fri</td>\n",
       "      <td>Fri</td>\n",
       "      <td>00:06:05</td>\n",
       "      <td>00:08:27</td>\n",
       "      <td>0 days 00:02:22</td>\n",
       "      <td>2.350000</td>\n",
       "      <td>29</td>\n",
       "      <td>Young adult</td>\n",
       "    </tr>\n",
       "    <tr>\n",
       "      <th>183410</th>\n",
       "      <td>139</td>\n",
       "      <td>220.0</td>\n",
       "      <td>San Pablo Ave at MLK Jr Way</td>\n",
       "      <td>216.0</td>\n",
       "      <td>San Pablo Ave at 27th St</td>\n",
       "      <td>5095</td>\n",
       "      <td>Subscriber</td>\n",
       "      <td>1988</td>\n",
       "      <td>Male</td>\n",
       "      <td>No</td>\n",
       "      <td>...</td>\n",
       "      <td>2019-02-01</td>\n",
       "      <td>2019-02-01</td>\n",
       "      <td>Fri</td>\n",
       "      <td>Fri</td>\n",
       "      <td>00:05:34</td>\n",
       "      <td>00:07:54</td>\n",
       "      <td>0 days 00:02:20</td>\n",
       "      <td>2.316667</td>\n",
       "      <td>31</td>\n",
       "      <td>Young adult</td>\n",
       "    </tr>\n",
       "    <tr>\n",
       "      <th>183411</th>\n",
       "      <td>271</td>\n",
       "      <td>24.0</td>\n",
       "      <td>Spear St at Folsom St</td>\n",
       "      <td>37.0</td>\n",
       "      <td>2nd St at Folsom St</td>\n",
       "      <td>1057</td>\n",
       "      <td>Subscriber</td>\n",
       "      <td>1989</td>\n",
       "      <td>Male</td>\n",
       "      <td>No</td>\n",
       "      <td>...</td>\n",
       "      <td>2019-02-01</td>\n",
       "      <td>2019-02-01</td>\n",
       "      <td>Fri</td>\n",
       "      <td>Fri</td>\n",
       "      <td>00:00:20</td>\n",
       "      <td>00:04:52</td>\n",
       "      <td>0 days 00:04:32</td>\n",
       "      <td>4.516667</td>\n",
       "      <td>30</td>\n",
       "      <td>Young adult</td>\n",
       "    </tr>\n",
       "  </tbody>\n",
       "</table>\n",
       "<p>174952 rows × 22 columns</p>\n",
       "</div>"
      ],
      "text/plain": [
       "        duration_sec  start_station_id  \\\n",
       "0              52185              21.0   \n",
       "2              61854              86.0   \n",
       "3              36490             375.0   \n",
       "4               1585               7.0   \n",
       "5               1793              93.0   \n",
       "...              ...               ...   \n",
       "183407           480              27.0   \n",
       "183408           313              21.0   \n",
       "183409           141             278.0   \n",
       "183410           139             220.0   \n",
       "183411           271              24.0   \n",
       "\n",
       "                                      start_station_name  end_station_id  \\\n",
       "0       Montgomery St BART Station (Market St at 2nd St)            13.0   \n",
       "2                                Market St at Dolores St             3.0   \n",
       "3                                Grove St at Masonic Ave            70.0   \n",
       "4                                    Frank H Ogawa Plaza           222.0   \n",
       "5                           4th St at Mission Bay Blvd S           323.0   \n",
       "...                                                  ...             ...   \n",
       "183407                           Beale St at Harrison St           324.0   \n",
       "183408  Montgomery St BART Station (Market St at 2nd St)            66.0   \n",
       "183409                            The Alameda at Bush St           277.0   \n",
       "183410                       San Pablo Ave at MLK Jr Way           216.0   \n",
       "183411                             Spear St at Folsom St            37.0   \n",
       "\n",
       "                                    end_station_name  bike_id   user_type  \\\n",
       "0                     Commercial St at Montgomery St     4902    Customer   \n",
       "2       Powell St BART Station (Market St at 4th St)     5905    Customer   \n",
       "3                             Central Ave at Fell St     6638  Subscriber   \n",
       "4                              10th Ave at E 15th St     4898  Subscriber   \n",
       "5                                 Broadway at Kearny     5200  Subscriber   \n",
       "...                                              ...      ...         ...   \n",
       "183407           Union Square (Powell St at Post St)     4832  Subscriber   \n",
       "183408                         3rd St at Townsend St     4960  Subscriber   \n",
       "183409                     Morrison Ave at Julian St     3824  Subscriber   \n",
       "183410                      San Pablo Ave at 27th St     5095  Subscriber   \n",
       "183411                           2nd St at Folsom St     1057  Subscriber   \n",
       "\n",
       "        member_birth_year member_gender bike_share_for_all_trip  ...  \\\n",
       "0                    1984          Male                      No  ...   \n",
       "2                    1972          Male                      No  ...   \n",
       "3                    1989         Other                      No  ...   \n",
       "4                    1974          Male                     Yes  ...   \n",
       "5                    1959          Male                      No  ...   \n",
       "...                   ...           ...                     ...  ...   \n",
       "183407               1996          Male                      No  ...   \n",
       "183408               1984          Male                      No  ...   \n",
       "183409               1990          Male                     Yes  ...   \n",
       "183410               1988          Male                      No  ...   \n",
       "183411               1989          Male                      No  ...   \n",
       "\n",
       "        start_date    end_date start_day end_day start_timee end_timee  \\\n",
       "0       2019-02-28  2019-03-01       Thu     Fri    17:32:10  08:01:55   \n",
       "2       2019-02-28  2019-03-01       Thu     Fri    12:13:13  05:24:08   \n",
       "3       2019-02-28  2019-03-01       Thu     Fri    17:54:26  04:02:36   \n",
       "4       2019-02-28  2019-03-01       Thu     Fri    23:54:18  00:20:44   \n",
       "5       2019-02-28  2019-03-01       Thu     Fri    23:49:58  00:19:51   \n",
       "...            ...         ...       ...     ...         ...       ...   \n",
       "183407  2019-02-01  2019-02-01       Fri     Fri    00:04:49  00:12:50   \n",
       "183408  2019-02-01  2019-02-01       Fri     Fri    00:05:34  00:10:48   \n",
       "183409  2019-02-01  2019-02-01       Fri     Fri    00:06:05  00:08:27   \n",
       "183410  2019-02-01  2019-02-01       Fri     Fri    00:05:34  00:07:54   \n",
       "183411  2019-02-01  2019-02-01       Fri     Fri    00:00:20  00:04:52   \n",
       "\n",
       "               start_h minute_duration member_age    age_group  \n",
       "0      0 days 14:29:45      869.750000         35  Young adult  \n",
       "2      0 days 17:10:55     1030.900000         47  Older Adult  \n",
       "3      0 days 10:08:10      608.166667         30  Young adult  \n",
       "4      0 days 00:26:26       26.416667         45  Young adult  \n",
       "5      0 days 00:29:53       29.883333         60  Older Adult  \n",
       "...                ...             ...        ...          ...  \n",
       "183407 0 days 00:08:01        8.000000         23   Adolescent  \n",
       "183408 0 days 00:05:14        5.216667         35  Young adult  \n",
       "183409 0 days 00:02:22        2.350000         29  Young adult  \n",
       "183410 0 days 00:02:20        2.316667         31  Young adult  \n",
       "183411 0 days 00:04:32        4.516667         30  Young adult  \n",
       "\n",
       "[174952 rows x 22 columns]"
      ]
     },
     "execution_count": 10,
     "metadata": {},
     "output_type": "execute_result"
    }
   ],
   "source": [
    "#applying the function to the member_age column and creating a new column, 'age_group'\n",
    "ford[\"age_group\"] = ford.member_age.apply(funf)\n",
    "ford\n"
   ]
  },
  {
   "cell_type": "code",
   "execution_count": 11,
   "id": "ceb19012",
   "metadata": {},
   "outputs": [
    {
     "data": {
      "text/plain": [
       "174952"
      ]
     },
     "execution_count": 11,
     "metadata": {},
     "output_type": "execute_result"
    }
   ],
   "source": [
    "#applying the function to the start_time column and creating a new column 'Daytime'\n",
    "ford['Daytime']=ford['start_timee'].apply(funn)\n",
    "ford['Daytime'].value_counts()\n",
    "len(ford['Daytime'])\n"
   ]
  },
  {
   "cell_type": "code",
   "execution_count": 12,
   "id": "45696a0a",
   "metadata": {},
   "outputs": [
    {
     "data": {
      "text/html": [
       "<div>\n",
       "<style scoped>\n",
       "    .dataframe tbody tr th:only-of-type {\n",
       "        vertical-align: middle;\n",
       "    }\n",
       "\n",
       "    .dataframe tbody tr th {\n",
       "        vertical-align: top;\n",
       "    }\n",
       "\n",
       "    .dataframe thead th {\n",
       "        text-align: right;\n",
       "    }\n",
       "</style>\n",
       "<table border=\"1\" class=\"dataframe\">\n",
       "  <thead>\n",
       "    <tr style=\"text-align: right;\">\n",
       "      <th></th>\n",
       "      <th>duration_sec</th>\n",
       "      <th>start_station_id</th>\n",
       "      <th>end_station_id</th>\n",
       "      <th>bike_id</th>\n",
       "      <th>member_birth_year</th>\n",
       "      <th>start_month</th>\n",
       "      <th>end_month</th>\n",
       "      <th>start_h</th>\n",
       "      <th>minute_duration</th>\n",
       "      <th>member_age</th>\n",
       "    </tr>\n",
       "  </thead>\n",
       "  <tbody>\n",
       "    <tr>\n",
       "      <th>count</th>\n",
       "      <td>174952.000000</td>\n",
       "      <td>174952.000000</td>\n",
       "      <td>174952.000000</td>\n",
       "      <td>174952.000000</td>\n",
       "      <td>174952.000000</td>\n",
       "      <td>174952.0</td>\n",
       "      <td>174952.000000</td>\n",
       "      <td>174952</td>\n",
       "      <td>174952.000000</td>\n",
       "      <td>174952.000000</td>\n",
       "    </tr>\n",
       "    <tr>\n",
       "      <th>mean</th>\n",
       "      <td>704.002744</td>\n",
       "      <td>139.002126</td>\n",
       "      <td>136.604486</td>\n",
       "      <td>4482.587555</td>\n",
       "      <td>1984.803135</td>\n",
       "      <td>2.0</td>\n",
       "      <td>2.000080</td>\n",
       "      <td>0 days 00:11:44.501326078</td>\n",
       "      <td>11.733379</td>\n",
       "      <td>34.196865</td>\n",
       "    </tr>\n",
       "    <tr>\n",
       "      <th>std</th>\n",
       "      <td>1642.204905</td>\n",
       "      <td>111.648819</td>\n",
       "      <td>111.335635</td>\n",
       "      <td>1659.195937</td>\n",
       "      <td>10.118731</td>\n",
       "      <td>0.0</td>\n",
       "      <td>0.008945</td>\n",
       "      <td>0 days 00:27:22.204747215</td>\n",
       "      <td>27.370082</td>\n",
       "      <td>10.118731</td>\n",
       "    </tr>\n",
       "    <tr>\n",
       "      <th>min</th>\n",
       "      <td>61.000000</td>\n",
       "      <td>3.000000</td>\n",
       "      <td>3.000000</td>\n",
       "      <td>11.000000</td>\n",
       "      <td>1878.000000</td>\n",
       "      <td>2.0</td>\n",
       "      <td>2.000000</td>\n",
       "      <td>0 days 00:01:01</td>\n",
       "      <td>1.016667</td>\n",
       "      <td>18.000000</td>\n",
       "    </tr>\n",
       "    <tr>\n",
       "      <th>25%</th>\n",
       "      <td>323.000000</td>\n",
       "      <td>47.000000</td>\n",
       "      <td>44.000000</td>\n",
       "      <td>3799.000000</td>\n",
       "      <td>1980.000000</td>\n",
       "      <td>2.0</td>\n",
       "      <td>2.000000</td>\n",
       "      <td>0 days 00:05:23</td>\n",
       "      <td>5.383333</td>\n",
       "      <td>27.000000</td>\n",
       "    </tr>\n",
       "    <tr>\n",
       "      <th>50%</th>\n",
       "      <td>510.000000</td>\n",
       "      <td>104.000000</td>\n",
       "      <td>101.000000</td>\n",
       "      <td>4960.000000</td>\n",
       "      <td>1987.000000</td>\n",
       "      <td>2.0</td>\n",
       "      <td>2.000000</td>\n",
       "      <td>0 days 00:08:31</td>\n",
       "      <td>8.500000</td>\n",
       "      <td>32.000000</td>\n",
       "    </tr>\n",
       "    <tr>\n",
       "      <th>75%</th>\n",
       "      <td>789.000000</td>\n",
       "      <td>239.000000</td>\n",
       "      <td>238.000000</td>\n",
       "      <td>5505.000000</td>\n",
       "      <td>1992.000000</td>\n",
       "      <td>2.0</td>\n",
       "      <td>2.000000</td>\n",
       "      <td>0 days 00:13:09</td>\n",
       "      <td>13.150000</td>\n",
       "      <td>39.000000</td>\n",
       "    </tr>\n",
       "    <tr>\n",
       "      <th>max</th>\n",
       "      <td>84548.000000</td>\n",
       "      <td>398.000000</td>\n",
       "      <td>398.000000</td>\n",
       "      <td>6645.000000</td>\n",
       "      <td>2001.000000</td>\n",
       "      <td>2.0</td>\n",
       "      <td>3.000000</td>\n",
       "      <td>0 days 23:29:08</td>\n",
       "      <td>1409.133333</td>\n",
       "      <td>141.000000</td>\n",
       "    </tr>\n",
       "  </tbody>\n",
       "</table>\n",
       "</div>"
      ],
      "text/plain": [
       "        duration_sec  start_station_id  end_station_id        bike_id  \\\n",
       "count  174952.000000     174952.000000   174952.000000  174952.000000   \n",
       "mean      704.002744        139.002126      136.604486    4482.587555   \n",
       "std      1642.204905        111.648819      111.335635    1659.195937   \n",
       "min        61.000000          3.000000        3.000000      11.000000   \n",
       "25%       323.000000         47.000000       44.000000    3799.000000   \n",
       "50%       510.000000        104.000000      101.000000    4960.000000   \n",
       "75%       789.000000        239.000000      238.000000    5505.000000   \n",
       "max     84548.000000        398.000000      398.000000    6645.000000   \n",
       "\n",
       "       member_birth_year  start_month      end_month  \\\n",
       "count      174952.000000     174952.0  174952.000000   \n",
       "mean         1984.803135          2.0       2.000080   \n",
       "std            10.118731          0.0       0.008945   \n",
       "min          1878.000000          2.0       2.000000   \n",
       "25%          1980.000000          2.0       2.000000   \n",
       "50%          1987.000000          2.0       2.000000   \n",
       "75%          1992.000000          2.0       2.000000   \n",
       "max          2001.000000          2.0       3.000000   \n",
       "\n",
       "                         start_h  minute_duration     member_age  \n",
       "count                     174952    174952.000000  174952.000000  \n",
       "mean   0 days 00:11:44.501326078        11.733379      34.196865  \n",
       "std    0 days 00:27:22.204747215        27.370082      10.118731  \n",
       "min              0 days 00:01:01         1.016667      18.000000  \n",
       "25%              0 days 00:05:23         5.383333      27.000000  \n",
       "50%              0 days 00:08:31         8.500000      32.000000  \n",
       "75%              0 days 00:13:09        13.150000      39.000000  \n",
       "max              0 days 23:29:08      1409.133333     141.000000  "
      ]
     },
     "execution_count": 12,
     "metadata": {},
     "output_type": "execute_result"
    }
   ],
   "source": [
    "#descriptive statistics for the ford dataset\n",
    "ford.describe()"
   ]
  },
  {
   "cell_type": "code",
   "execution_count": 13,
   "id": "54cac243",
   "metadata": {},
   "outputs": [],
   "source": [
    "ford.rename(columns={'Daytime':'Time_of_day'}, inplace=True)"
   ]
  },
  {
   "cell_type": "code",
   "execution_count": 14,
   "id": "bfdd2acb",
   "metadata": {},
   "outputs": [
    {
     "data": {
      "text/plain": [
       "Male      130500\n",
       "Female     40805\n",
       "Other       3647\n",
       "Name: member_gender, dtype: int64"
      ]
     },
     "execution_count": 14,
     "metadata": {},
     "output_type": "execute_result"
    }
   ],
   "source": [
    "ford['member_gender'].value_counts()"
   ]
  },
  {
   "cell_type": "code",
   "execution_count": 15,
   "id": "8f4fbc03",
   "metadata": {},
   "outputs": [
    {
     "data": {
      "text/plain": [
       "174952"
      ]
     },
     "execution_count": 15,
     "metadata": {},
     "output_type": "execute_result"
    }
   ],
   "source": [
    "ford['bike_id'].value_counts().sum()"
   ]
  },
  {
   "cell_type": "code",
   "execution_count": 16,
   "id": "0fc69fef",
   "metadata": {},
   "outputs": [
    {
     "data": {
      "text/html": [
       "<div>\n",
       "<style scoped>\n",
       "    .dataframe tbody tr th:only-of-type {\n",
       "        vertical-align: middle;\n",
       "    }\n",
       "\n",
       "    .dataframe tbody tr th {\n",
       "        vertical-align: top;\n",
       "    }\n",
       "\n",
       "    .dataframe thead th {\n",
       "        text-align: right;\n",
       "    }\n",
       "</style>\n",
       "<table border=\"1\" class=\"dataframe\">\n",
       "  <thead>\n",
       "    <tr style=\"text-align: right;\">\n",
       "      <th></th>\n",
       "      <th>duration_sec</th>\n",
       "      <th>start_station_id</th>\n",
       "      <th>start_station_name</th>\n",
       "      <th>end_station_id</th>\n",
       "      <th>end_station_name</th>\n",
       "      <th>bike_id</th>\n",
       "      <th>user_type</th>\n",
       "      <th>member_birth_year</th>\n",
       "      <th>member_gender</th>\n",
       "      <th>bike_share_for_all_trip</th>\n",
       "      <th>...</th>\n",
       "      <th>end_date</th>\n",
       "      <th>start_day</th>\n",
       "      <th>end_day</th>\n",
       "      <th>start_timee</th>\n",
       "      <th>end_timee</th>\n",
       "      <th>start_h</th>\n",
       "      <th>minute_duration</th>\n",
       "      <th>member_age</th>\n",
       "      <th>age_group</th>\n",
       "      <th>Time_of_day</th>\n",
       "    </tr>\n",
       "  </thead>\n",
       "  <tbody>\n",
       "    <tr>\n",
       "      <th>0</th>\n",
       "      <td>52185</td>\n",
       "      <td>21.0</td>\n",
       "      <td>Montgomery St BART Station (Market St at 2nd St)</td>\n",
       "      <td>13.0</td>\n",
       "      <td>Commercial St at Montgomery St</td>\n",
       "      <td>4902</td>\n",
       "      <td>Customer</td>\n",
       "      <td>1984</td>\n",
       "      <td>Male</td>\n",
       "      <td>No</td>\n",
       "      <td>...</td>\n",
       "      <td>2019-03-01</td>\n",
       "      <td>Thu</td>\n",
       "      <td>Fri</td>\n",
       "      <td>17:32:10</td>\n",
       "      <td>08:01:55</td>\n",
       "      <td>0 days 14:29:45</td>\n",
       "      <td>869.750000</td>\n",
       "      <td>35</td>\n",
       "      <td>Young adult</td>\n",
       "      <td>Night</td>\n",
       "    </tr>\n",
       "    <tr>\n",
       "      <th>2</th>\n",
       "      <td>61854</td>\n",
       "      <td>86.0</td>\n",
       "      <td>Market St at Dolores St</td>\n",
       "      <td>3.0</td>\n",
       "      <td>Powell St BART Station (Market St at 4th St)</td>\n",
       "      <td>5905</td>\n",
       "      <td>Customer</td>\n",
       "      <td>1972</td>\n",
       "      <td>Male</td>\n",
       "      <td>No</td>\n",
       "      <td>...</td>\n",
       "      <td>2019-03-01</td>\n",
       "      <td>Thu</td>\n",
       "      <td>Fri</td>\n",
       "      <td>12:13:13</td>\n",
       "      <td>05:24:08</td>\n",
       "      <td>0 days 17:10:55</td>\n",
       "      <td>1030.900000</td>\n",
       "      <td>47</td>\n",
       "      <td>Older Adult</td>\n",
       "      <td>Afternoon</td>\n",
       "    </tr>\n",
       "    <tr>\n",
       "      <th>3</th>\n",
       "      <td>36490</td>\n",
       "      <td>375.0</td>\n",
       "      <td>Grove St at Masonic Ave</td>\n",
       "      <td>70.0</td>\n",
       "      <td>Central Ave at Fell St</td>\n",
       "      <td>6638</td>\n",
       "      <td>Subscriber</td>\n",
       "      <td>1989</td>\n",
       "      <td>Other</td>\n",
       "      <td>No</td>\n",
       "      <td>...</td>\n",
       "      <td>2019-03-01</td>\n",
       "      <td>Thu</td>\n",
       "      <td>Fri</td>\n",
       "      <td>17:54:26</td>\n",
       "      <td>04:02:36</td>\n",
       "      <td>0 days 10:08:10</td>\n",
       "      <td>608.166667</td>\n",
       "      <td>30</td>\n",
       "      <td>Young adult</td>\n",
       "      <td>Night</td>\n",
       "    </tr>\n",
       "    <tr>\n",
       "      <th>4</th>\n",
       "      <td>1585</td>\n",
       "      <td>7.0</td>\n",
       "      <td>Frank H Ogawa Plaza</td>\n",
       "      <td>222.0</td>\n",
       "      <td>10th Ave at E 15th St</td>\n",
       "      <td>4898</td>\n",
       "      <td>Subscriber</td>\n",
       "      <td>1974</td>\n",
       "      <td>Male</td>\n",
       "      <td>Yes</td>\n",
       "      <td>...</td>\n",
       "      <td>2019-03-01</td>\n",
       "      <td>Thu</td>\n",
       "      <td>Fri</td>\n",
       "      <td>23:54:18</td>\n",
       "      <td>00:20:44</td>\n",
       "      <td>0 days 00:26:26</td>\n",
       "      <td>26.416667</td>\n",
       "      <td>45</td>\n",
       "      <td>Young adult</td>\n",
       "      <td>Night</td>\n",
       "    </tr>\n",
       "    <tr>\n",
       "      <th>5</th>\n",
       "      <td>1793</td>\n",
       "      <td>93.0</td>\n",
       "      <td>4th St at Mission Bay Blvd S</td>\n",
       "      <td>323.0</td>\n",
       "      <td>Broadway at Kearny</td>\n",
       "      <td>5200</td>\n",
       "      <td>Subscriber</td>\n",
       "      <td>1959</td>\n",
       "      <td>Male</td>\n",
       "      <td>No</td>\n",
       "      <td>...</td>\n",
       "      <td>2019-03-01</td>\n",
       "      <td>Thu</td>\n",
       "      <td>Fri</td>\n",
       "      <td>23:49:58</td>\n",
       "      <td>00:19:51</td>\n",
       "      <td>0 days 00:29:53</td>\n",
       "      <td>29.883333</td>\n",
       "      <td>60</td>\n",
       "      <td>Older Adult</td>\n",
       "      <td>Night</td>\n",
       "    </tr>\n",
       "    <tr>\n",
       "      <th>...</th>\n",
       "      <td>...</td>\n",
       "      <td>...</td>\n",
       "      <td>...</td>\n",
       "      <td>...</td>\n",
       "      <td>...</td>\n",
       "      <td>...</td>\n",
       "      <td>...</td>\n",
       "      <td>...</td>\n",
       "      <td>...</td>\n",
       "      <td>...</td>\n",
       "      <td>...</td>\n",
       "      <td>...</td>\n",
       "      <td>...</td>\n",
       "      <td>...</td>\n",
       "      <td>...</td>\n",
       "      <td>...</td>\n",
       "      <td>...</td>\n",
       "      <td>...</td>\n",
       "      <td>...</td>\n",
       "      <td>...</td>\n",
       "      <td>...</td>\n",
       "    </tr>\n",
       "    <tr>\n",
       "      <th>183407</th>\n",
       "      <td>480</td>\n",
       "      <td>27.0</td>\n",
       "      <td>Beale St at Harrison St</td>\n",
       "      <td>324.0</td>\n",
       "      <td>Union Square (Powell St at Post St)</td>\n",
       "      <td>4832</td>\n",
       "      <td>Subscriber</td>\n",
       "      <td>1996</td>\n",
       "      <td>Male</td>\n",
       "      <td>No</td>\n",
       "      <td>...</td>\n",
       "      <td>2019-02-01</td>\n",
       "      <td>Fri</td>\n",
       "      <td>Fri</td>\n",
       "      <td>00:04:49</td>\n",
       "      <td>00:12:50</td>\n",
       "      <td>0 days 00:08:01</td>\n",
       "      <td>8.000000</td>\n",
       "      <td>23</td>\n",
       "      <td>Adolescent</td>\n",
       "      <td>Mid-Night</td>\n",
       "    </tr>\n",
       "    <tr>\n",
       "      <th>183408</th>\n",
       "      <td>313</td>\n",
       "      <td>21.0</td>\n",
       "      <td>Montgomery St BART Station (Market St at 2nd St)</td>\n",
       "      <td>66.0</td>\n",
       "      <td>3rd St at Townsend St</td>\n",
       "      <td>4960</td>\n",
       "      <td>Subscriber</td>\n",
       "      <td>1984</td>\n",
       "      <td>Male</td>\n",
       "      <td>No</td>\n",
       "      <td>...</td>\n",
       "      <td>2019-02-01</td>\n",
       "      <td>Fri</td>\n",
       "      <td>Fri</td>\n",
       "      <td>00:05:34</td>\n",
       "      <td>00:10:48</td>\n",
       "      <td>0 days 00:05:14</td>\n",
       "      <td>5.216667</td>\n",
       "      <td>35</td>\n",
       "      <td>Young adult</td>\n",
       "      <td>Mid-Night</td>\n",
       "    </tr>\n",
       "    <tr>\n",
       "      <th>183409</th>\n",
       "      <td>141</td>\n",
       "      <td>278.0</td>\n",
       "      <td>The Alameda at Bush St</td>\n",
       "      <td>277.0</td>\n",
       "      <td>Morrison Ave at Julian St</td>\n",
       "      <td>3824</td>\n",
       "      <td>Subscriber</td>\n",
       "      <td>1990</td>\n",
       "      <td>Male</td>\n",
       "      <td>Yes</td>\n",
       "      <td>...</td>\n",
       "      <td>2019-02-01</td>\n",
       "      <td>Fri</td>\n",
       "      <td>Fri</td>\n",
       "      <td>00:06:05</td>\n",
       "      <td>00:08:27</td>\n",
       "      <td>0 days 00:02:22</td>\n",
       "      <td>2.350000</td>\n",
       "      <td>29</td>\n",
       "      <td>Young adult</td>\n",
       "      <td>Mid-Night</td>\n",
       "    </tr>\n",
       "    <tr>\n",
       "      <th>183410</th>\n",
       "      <td>139</td>\n",
       "      <td>220.0</td>\n",
       "      <td>San Pablo Ave at MLK Jr Way</td>\n",
       "      <td>216.0</td>\n",
       "      <td>San Pablo Ave at 27th St</td>\n",
       "      <td>5095</td>\n",
       "      <td>Subscriber</td>\n",
       "      <td>1988</td>\n",
       "      <td>Male</td>\n",
       "      <td>No</td>\n",
       "      <td>...</td>\n",
       "      <td>2019-02-01</td>\n",
       "      <td>Fri</td>\n",
       "      <td>Fri</td>\n",
       "      <td>00:05:34</td>\n",
       "      <td>00:07:54</td>\n",
       "      <td>0 days 00:02:20</td>\n",
       "      <td>2.316667</td>\n",
       "      <td>31</td>\n",
       "      <td>Young adult</td>\n",
       "      <td>Mid-Night</td>\n",
       "    </tr>\n",
       "    <tr>\n",
       "      <th>183411</th>\n",
       "      <td>271</td>\n",
       "      <td>24.0</td>\n",
       "      <td>Spear St at Folsom St</td>\n",
       "      <td>37.0</td>\n",
       "      <td>2nd St at Folsom St</td>\n",
       "      <td>1057</td>\n",
       "      <td>Subscriber</td>\n",
       "      <td>1989</td>\n",
       "      <td>Male</td>\n",
       "      <td>No</td>\n",
       "      <td>...</td>\n",
       "      <td>2019-02-01</td>\n",
       "      <td>Fri</td>\n",
       "      <td>Fri</td>\n",
       "      <td>00:00:20</td>\n",
       "      <td>00:04:52</td>\n",
       "      <td>0 days 00:04:32</td>\n",
       "      <td>4.516667</td>\n",
       "      <td>30</td>\n",
       "      <td>Young adult</td>\n",
       "      <td>Mid-Night</td>\n",
       "    </tr>\n",
       "  </tbody>\n",
       "</table>\n",
       "<p>174952 rows × 23 columns</p>\n",
       "</div>"
      ],
      "text/plain": [
       "        duration_sec  start_station_id  \\\n",
       "0              52185              21.0   \n",
       "2              61854              86.0   \n",
       "3              36490             375.0   \n",
       "4               1585               7.0   \n",
       "5               1793              93.0   \n",
       "...              ...               ...   \n",
       "183407           480              27.0   \n",
       "183408           313              21.0   \n",
       "183409           141             278.0   \n",
       "183410           139             220.0   \n",
       "183411           271              24.0   \n",
       "\n",
       "                                      start_station_name  end_station_id  \\\n",
       "0       Montgomery St BART Station (Market St at 2nd St)            13.0   \n",
       "2                                Market St at Dolores St             3.0   \n",
       "3                                Grove St at Masonic Ave            70.0   \n",
       "4                                    Frank H Ogawa Plaza           222.0   \n",
       "5                           4th St at Mission Bay Blvd S           323.0   \n",
       "...                                                  ...             ...   \n",
       "183407                           Beale St at Harrison St           324.0   \n",
       "183408  Montgomery St BART Station (Market St at 2nd St)            66.0   \n",
       "183409                            The Alameda at Bush St           277.0   \n",
       "183410                       San Pablo Ave at MLK Jr Way           216.0   \n",
       "183411                             Spear St at Folsom St            37.0   \n",
       "\n",
       "                                    end_station_name  bike_id   user_type  \\\n",
       "0                     Commercial St at Montgomery St     4902    Customer   \n",
       "2       Powell St BART Station (Market St at 4th St)     5905    Customer   \n",
       "3                             Central Ave at Fell St     6638  Subscriber   \n",
       "4                              10th Ave at E 15th St     4898  Subscriber   \n",
       "5                                 Broadway at Kearny     5200  Subscriber   \n",
       "...                                              ...      ...         ...   \n",
       "183407           Union Square (Powell St at Post St)     4832  Subscriber   \n",
       "183408                         3rd St at Townsend St     4960  Subscriber   \n",
       "183409                     Morrison Ave at Julian St     3824  Subscriber   \n",
       "183410                      San Pablo Ave at 27th St     5095  Subscriber   \n",
       "183411                           2nd St at Folsom St     1057  Subscriber   \n",
       "\n",
       "        member_birth_year member_gender bike_share_for_all_trip  ...  \\\n",
       "0                    1984          Male                      No  ...   \n",
       "2                    1972          Male                      No  ...   \n",
       "3                    1989         Other                      No  ...   \n",
       "4                    1974          Male                     Yes  ...   \n",
       "5                    1959          Male                      No  ...   \n",
       "...                   ...           ...                     ...  ...   \n",
       "183407               1996          Male                      No  ...   \n",
       "183408               1984          Male                      No  ...   \n",
       "183409               1990          Male                     Yes  ...   \n",
       "183410               1988          Male                      No  ...   \n",
       "183411               1989          Male                      No  ...   \n",
       "\n",
       "          end_date  start_day end_day start_timee end_timee         start_h  \\\n",
       "0       2019-03-01        Thu     Fri    17:32:10  08:01:55 0 days 14:29:45   \n",
       "2       2019-03-01        Thu     Fri    12:13:13  05:24:08 0 days 17:10:55   \n",
       "3       2019-03-01        Thu     Fri    17:54:26  04:02:36 0 days 10:08:10   \n",
       "4       2019-03-01        Thu     Fri    23:54:18  00:20:44 0 days 00:26:26   \n",
       "5       2019-03-01        Thu     Fri    23:49:58  00:19:51 0 days 00:29:53   \n",
       "...            ...        ...     ...         ...       ...             ...   \n",
       "183407  2019-02-01        Fri     Fri    00:04:49  00:12:50 0 days 00:08:01   \n",
       "183408  2019-02-01        Fri     Fri    00:05:34  00:10:48 0 days 00:05:14   \n",
       "183409  2019-02-01        Fri     Fri    00:06:05  00:08:27 0 days 00:02:22   \n",
       "183410  2019-02-01        Fri     Fri    00:05:34  00:07:54 0 days 00:02:20   \n",
       "183411  2019-02-01        Fri     Fri    00:00:20  00:04:52 0 days 00:04:32   \n",
       "\n",
       "       minute_duration member_age    age_group  Time_of_day  \n",
       "0           869.750000         35  Young adult        Night  \n",
       "2          1030.900000         47  Older Adult    Afternoon  \n",
       "3           608.166667         30  Young adult        Night  \n",
       "4            26.416667         45  Young adult        Night  \n",
       "5            29.883333         60  Older Adult        Night  \n",
       "...                ...        ...          ...          ...  \n",
       "183407        8.000000         23   Adolescent    Mid-Night  \n",
       "183408        5.216667         35  Young adult    Mid-Night  \n",
       "183409        2.350000         29  Young adult    Mid-Night  \n",
       "183410        2.316667         31  Young adult    Mid-Night  \n",
       "183411        4.516667         30  Young adult    Mid-Night  \n",
       "\n",
       "[174952 rows x 23 columns]"
      ]
     },
     "execution_count": 16,
     "metadata": {},
     "output_type": "execute_result"
    }
   ],
   "source": [
    "ford"
   ]
  },
  {
   "cell_type": "markdown",
   "id": "cbe2096c",
   "metadata": {},
   "source": [
    "## What is the Structure of the Dataset"
   ]
  },
  {
   "cell_type": "markdown",
   "id": "535b59d0",
   "metadata": {},
   "source": [
    "Initially there were 183412 rows × 16 columns in my dataset but after wrangling my data, dropping irrrelevant columns and extracting new ones, a total of  174875 rows × 23 columns were left. \n",
    "\n",
    "    \n",
    " The 'user_type' column, has 'Subscriber and Customer' as cardinal values\n",
    " The 'start_station_name' and 'end_station_name' are categorical columns with addresses that also have a unique 'start and end station ID column.\n",
    "    The bike_share_for_all_trip has values 'Yes' & 'No'.\n",
    "    The date,Age and Time columns were also extracted\n",
    "    \n",
    "    "
   ]
  },
  {
   "cell_type": "markdown",
   "id": "50bafa6a",
   "metadata": {},
   "source": [
    "## Features of interest"
   ]
  },
  {
   "cell_type": "markdown",
   "id": "71c68bfb",
   "metadata": {
    "slideshow": {
     "slide_type": "subslide"
    }
   },
   "source": [
    " I'm more interested in knowing the variables needed for predicting which user type took more bike rides at certain times and on specific days of the week depending on the member_age,duration & user type too."
   ]
  },
  {
   "cell_type": "markdown",
   "id": "060cd77d",
   "metadata": {
    "slideshow": {
     "slide_type": "subslide"
    }
   },
   "source": [
    "## What features in the dataset do you think will help support your investigation into your feature(s) of interest?"
   ]
  },
  {
   "cell_type": "markdown",
   "id": "b807239e",
   "metadata": {
    "slideshow": {
     "slide_type": "subslide"
    }
   },
   "source": [
    "    The features of interest here are age,time of rides and genders which also show a positive corrleatin between a few \n",
    "    variables.Tho they'll still be thoroughly investigated for more insights.\n",
    "    The day of the week will play a huge role on when most trips would take place. The Time of Day too i.e-Night, \n",
    "    afternoon,midnight will also be a dependent factor in determinimg which user type took more rides and when. "
   ]
  },
  {
   "cell_type": "markdown",
   "id": "5a773f6f",
   "metadata": {},
   "source": [
    "## Univariate Analysis"
   ]
  },
  {
   "cell_type": "markdown",
   "id": "3aff26c5",
   "metadata": {
    "slideshow": {
     "slide_type": "subslide"
    }
   },
   "source": [
    "    To begin with let's analyse the age column."
   ]
  },
  {
   "cell_type": "code",
   "execution_count": 17,
   "id": "ad2c62d3",
   "metadata": {
    "slideshow": {
     "slide_type": "slide"
    }
   },
   "outputs": [
    {
     "data": {
      "image/png": "[encoded data removed]",
      "text/plain": [
       "<Figure size 576x360 with 1 Axes>"
      ]
     },
     "metadata": {
      "needs_background": "light"
     },
     "output_type": "display_data"
    }
   ],
   "source": [
    "# start with a standard-scaled plot\n",
    "binsize = 3\n",
    "bins = np.arange(0, ford['member_age'].max()+binsize, binsize)\n",
    "\n",
    "plt.figure(figsize=[8, 5])\n",
    "plt.hist(data = ford, x = 'member_age', bins = bins)\n",
    "plt.xlabel('member_age')\n",
    "plt.show()"
   ]
  },
  {
   "cell_type": "markdown",
   "id": "b5099fcc",
   "metadata": {},
   "source": [
    "    The plot shows that most occuring ages in this dataset is usually between 30-35.With the least age being above 18 years old.\n",
    "    On  the  x axis, most of the data is set to the left of their axes, suggesting some strong outliers on the right that \n",
    "    exist from 80-141 years but after thoroughly going throught the data set i'll be able to draw conclusions. \n",
    "    The left limits of the plot also suggest that there are some points that take unusually small values. Let's see if we\n",
    "    can identify the outliers and treat them accordingly.\n",
    "    "
   ]
  },
  {
   "cell_type": "code",
   "execution_count": 18,
   "id": "290fc870",
   "metadata": {
    "slideshow": {
     "slide_type": "slide"
    }
   },
   "outputs": [
    {
     "data": {
      "text/plain": [
       "<AxesSubplot:xlabel='member_age', ylabel='Count'>"
      ]
     },
     "execution_count": 18,
     "metadata": {},
     "output_type": "execute_result"
    },
    {
     "data": {
      "image/png": "[encoded data removed]",
      "text/plain": [
       "<Figure size 432x288 with 1 Axes>"
      ]
     },
     "metadata": {
      "needs_background": "light"
     },
     "output_type": "display_data"
    }
   ],
   "source": [
    "#confirming this using KDE\n",
    "gt=ford.groupby(by=['minute_duration','member_age']).sum().sort_values(by='duration_sec').reset_index()\n",
    "co=gt[['member_age','duration_sec']]\n",
    "sns.histplot(data=co,x='member_age',bins=30,kde=True)\n",
    "\n",
    "\n",
    "#sns.histplot(data=ford, x='minute_duration',bins=)"
   ]
  },
  {
   "cell_type": "code",
   "execution_count": 19,
   "id": "1a0d8489",
   "metadata": {
    "slideshow": {
     "slide_type": "slide"
    }
   },
   "outputs": [
    {
     "data": {
      "text/plain": [
       "<AxesSubplot:xlabel='duration_sec', ylabel='Count'>"
      ]
     },
     "execution_count": 19,
     "metadata": {},
     "output_type": "execute_result"
    },
    {
     "data": {
      "image/png": "[encoded data removed]",
      "text/plain": [
       "<Figure size 576x432 with 1 Axes>"
      ]
     },
     "metadata": {
      "needs_background": "light"
     },
     "output_type": "display_data"
    }
   ],
   "source": [
    "fig, ax = plt.subplots(figsize=(8, 6))\n",
    "bin_size = 900\n",
    "binss = np.arange(0, ford['duration_sec'].max()+bin_size, bin_size)\n",
    "sns.histplot(data=ford,x='duration_sec',bins=binss)\n"
   ]
  },
  {
   "cell_type": "markdown",
   "id": "e0a41d4a",
   "metadata": {
    "slideshow": {
     "slide_type": "subslide"
    }
   },
   "source": [
    "From the histogram plot 'duration_sec' column which represents the duration of rides in seconds appears to be right-skewed with a long tail.The log transformation was done to see its distribution properly"
   ]
  },
  {
   "cell_type": "code",
   "execution_count": 20,
   "id": "232e06a8",
   "metadata": {
    "slideshow": {
     "slide_type": "slide"
    }
   },
   "outputs": [
    {
     "data": {
      "image/png": "[encoded data removed]",
      "text/plain": [
       "<Figure size 576x432 with 1 Axes>"
      ]
     },
     "metadata": {
      "needs_background": "light"
     },
     "output_type": "display_data"
    }
   ],
   "source": [
    "#tranforming the duration_sec column to see its distribution properly\n",
    "fig, ax = plt.subplots(figsize=(8, 6))\n",
    "bin_size = 0.03\n",
    "bin= 10 ** np.arange(1.9, np.log10(ford['duration_sec'].max())+bin_size, bin_size)\n",
    "plt.hist(data=ford, x='duration_sec', bins=bin)\n",
    "plt.xscale('log')\n",
    "plt.xticks([3e1, 1e2, 3e2, 1e3, 3e3, 1e4, 3e4, 1e5], [ '20', '100', '300', '1k', '3k', '10k', '30k', '100k'])\n",
    "plt.xlabel('Duration')\n",
    "plt.ylabel('Frequency')\n",
    "plt.title('Duration')\n",
    "plt.grid();"
   ]
  },
  {
   "cell_type": "markdown",
   "id": "2a96652c",
   "metadata": {
    "slideshow": {
     "slide_type": "subslide"
    }
   },
   "source": [
    "After applying log tranformation it can be observed that the maximum duration spent by riders in seconds lies between 400-700 seconds"
   ]
  },
  {
   "cell_type": "code",
   "execution_count": 21,
   "id": "17b55f09",
   "metadata": {
    "slideshow": {
     "slide_type": "skip"
    }
   },
   "outputs": [
    {
     "data": {
      "text/plain": [
       "(174875, 23)"
      ]
     },
     "execution_count": 21,
     "metadata": {},
     "output_type": "execute_result"
    }
   ],
   "source": [
    "# To remove outliers i'll filter ages above 90 years and drop them leaving ages below 90years\n",
    "age_less_90 = ford[ford['member_age'] <= 90]\n",
    "age_less_90.shape"
   ]
  },
  {
   "cell_type": "code",
   "execution_count": 22,
   "id": "0f784b7b",
   "metadata": {
    "slideshow": {
     "slide_type": "slide"
    }
   },
   "outputs": [
    {
     "data": {
      "text/plain": [
       "Text(0.5, 1.0, 'Member_Ages')"
      ]
     },
     "execution_count": 22,
     "metadata": {},
     "output_type": "execute_result"
    },
    {
     "data": {
      "image/png": "[encoded data removed]",
      "text/plain": [
       "<Figure size 504x360 with 1 Axes>"
      ]
     },
     "metadata": {
      "needs_background": "light"
     },
     "output_type": "display_data"
    }
   ],
   "source": [
    "fig, ax = plt.subplots(figsize=(7, 5))\n",
    "plt.hist(data=age_less_90, x='member_age',bins=70, color='skyblue')\n",
    "plt.xlabel(\"Member_age\")\n",
    "plt.ylabel('Count')\n",
    "plt.title(\"Member_Ages\")"
   ]
  },
  {
   "cell_type": "markdown",
   "id": "5f7c57cf",
   "metadata": {
    "slideshow": {
     "slide_type": "subslide"
    }
   },
   "source": [
    "After grouping the ages of each member in a bin size of 70,the new member_ages, has its distribution to roughly bimodal with peaks between 25 and 32. This makes sense because within this age range our atlethesim is usually at its peak."
   ]
  },
  {
   "cell_type": "code",
   "execution_count": 23,
   "id": "44afccda",
   "metadata": {
    "slideshow": {
     "slide_type": "slide"
    }
   },
   "outputs": [
    {
     "data": {
      "text/plain": [
       "Subscriber    156422\n",
       "Customer       16366\n",
       "Name: user_type, dtype: int64"
      ]
     },
     "execution_count": 23,
     "metadata": {},
     "output_type": "execute_result"
    },
    {
     "data": {
      "image/png": "[encoded data removed]",
      "text/plain": [
       "<Figure size 432x288 with 1 Axes>"
      ]
     },
     "metadata": {
      "needs_background": "light"
     },
     "output_type": "display_data"
    }
   ],
   "source": [
    "#Which user type took more morning rides that started at 5am\n",
    "\n",
    "ford['start_timee']=ford['start_timee'].astype(str)\n",
    "ford['start_timee']\n",
    "\n",
    "five_am=ford.loc[ford['start_timee']>='05:00:00'].sort_values(by='start_timee')\n",
    "five_am.describe()\n",
    "\n",
    "\n",
    "sns.histplot(data=five_am, x='user_type')\n",
    "plt.title('Users who took 5am rides')\n",
    "#five_am['user_type'].value_counts().sum()\n",
    "five_am.head()\n",
    "five_am.describe()\n",
    "five_am['user_type'].value_counts()"
   ]
  },
  {
   "cell_type": "markdown",
   "id": "ab5fc82c",
   "metadata": {
    "slideshow": {
     "slide_type": "slide"
    }
   },
   "source": [
    "5am Subscribers had more rides than original customers.With a count rate of over 150,000 rides made from Feb 2019 to\n",
    "March 2019 with customers having less than 16,500 rides"
   ]
  },
  {
   "cell_type": "code",
   "execution_count": 24,
   "id": "643d7208",
   "metadata": {
    "slideshow": {
     "slide_type": "slide"
    }
   },
   "outputs": [
    {
     "data": {
      "text/plain": [
       "Male      130500\n",
       "Female     40805\n",
       "Other       3647\n",
       "Name: member_gender, dtype: int64"
      ]
     },
     "execution_count": 24,
     "metadata": {},
     "output_type": "execute_result"
    },
    {
     "data": {
      "image/png": "[encoded data removed]",
      "text/plain": [
       "<Figure size 432x288 with 1 Axes>"
      ]
     },
     "metadata": {
      "needs_background": "light"
     },
     "output_type": "display_data"
    }
   ],
   "source": [
    "#to know the number of each gender type in the dataset\n",
    "\n",
    "sns.countplot(x=age_less_90['member_gender'],data=ford, color='skyblue')\n",
    "plt.title('Gender count')\n",
    "\n",
    "ford['member_gender'].value_counts()"
   ]
  },
  {
   "cell_type": "markdown",
   "id": "2d34483e",
   "metadata": {
    "slideshow": {
     "slide_type": "subslide"
    }
   },
   "source": [
    "There are More male Gender in the dataset as compared to the female and 'other' gender.Though, the female gender is \n",
    "       lessthan 1/3 the male gender"
   ]
  },
  {
   "cell_type": "code",
   "execution_count": 25,
   "id": "3a41f82c",
   "metadata": {
    "slideshow": {
     "slide_type": "skip"
    }
   },
   "outputs": [
    {
     "data": {
      "text/plain": [
       "Text(0.5, 1.0, 'ages less than 90')"
      ]
     },
     "execution_count": 25,
     "metadata": {},
     "output_type": "execute_result"
    },
    {
     "data": {
      "image/png": "[encoded data removed]",
      "text/plain": [
       "<Figure size 432x288 with 1 Axes>"
      ]
     },
     "metadata": {
      "needs_background": "light"
     },
     "output_type": "display_data"
    }
   ],
   "source": [
    "#Let's check for utliers in the age column using a box plot\n",
    "sns.boxplot(data=age_less_90,x='member_age')\n",
    "plt.title('ages less than 90')"
   ]
  },
  {
   "cell_type": "code",
   "execution_count": 26,
   "id": "96ccf011",
   "metadata": {
    "slideshow": {
     "slide_type": "skip"
    }
   },
   "outputs": [
    {
     "data": {
      "text/html": [
       "<div>\n",
       "<style scoped>\n",
       "    .dataframe tbody tr th:only-of-type {\n",
       "        vertical-align: middle;\n",
       "    }\n",
       "\n",
       "    .dataframe tbody tr th {\n",
       "        vertical-align: top;\n",
       "    }\n",
       "\n",
       "    .dataframe thead th {\n",
       "        text-align: right;\n",
       "    }\n",
       "</style>\n",
       "<table border=\"1\" class=\"dataframe\">\n",
       "  <thead>\n",
       "    <tr style=\"text-align: right;\">\n",
       "      <th></th>\n",
       "      <th>duration_sec</th>\n",
       "      <th>start_station_id</th>\n",
       "      <th>start_station_name</th>\n",
       "      <th>end_station_id</th>\n",
       "      <th>end_station_name</th>\n",
       "      <th>bike_id</th>\n",
       "      <th>user_type</th>\n",
       "      <th>member_birth_year</th>\n",
       "      <th>member_gender</th>\n",
       "      <th>bike_share_for_all_trip</th>\n",
       "      <th>...</th>\n",
       "      <th>end_date</th>\n",
       "      <th>start_day</th>\n",
       "      <th>end_day</th>\n",
       "      <th>start_timee</th>\n",
       "      <th>end_timee</th>\n",
       "      <th>start_h</th>\n",
       "      <th>minute_duration</th>\n",
       "      <th>member_age</th>\n",
       "      <th>age_group</th>\n",
       "      <th>Time_of_day</th>\n",
       "    </tr>\n",
       "  </thead>\n",
       "  <tbody>\n",
       "    <tr>\n",
       "      <th>0</th>\n",
       "      <td>52185</td>\n",
       "      <td>21.0</td>\n",
       "      <td>Montgomery St BART Station (Market St at 2nd St)</td>\n",
       "      <td>13.0</td>\n",
       "      <td>Commercial St at Montgomery St</td>\n",
       "      <td>4902</td>\n",
       "      <td>Customer</td>\n",
       "      <td>1984</td>\n",
       "      <td>Male</td>\n",
       "      <td>No</td>\n",
       "      <td>...</td>\n",
       "      <td>2019-03-01</td>\n",
       "      <td>Thu</td>\n",
       "      <td>Fri</td>\n",
       "      <td>17:32:10</td>\n",
       "      <td>08:01:55</td>\n",
       "      <td>0 days 14:29:45</td>\n",
       "      <td>869.750000</td>\n",
       "      <td>35</td>\n",
       "      <td>Young adult</td>\n",
       "      <td>Night</td>\n",
       "    </tr>\n",
       "    <tr>\n",
       "      <th>2</th>\n",
       "      <td>61854</td>\n",
       "      <td>86.0</td>\n",
       "      <td>Market St at Dolores St</td>\n",
       "      <td>3.0</td>\n",
       "      <td>Powell St BART Station (Market St at 4th St)</td>\n",
       "      <td>5905</td>\n",
       "      <td>Customer</td>\n",
       "      <td>1972</td>\n",
       "      <td>Male</td>\n",
       "      <td>No</td>\n",
       "      <td>...</td>\n",
       "      <td>2019-03-01</td>\n",
       "      <td>Thu</td>\n",
       "      <td>Fri</td>\n",
       "      <td>12:13:13</td>\n",
       "      <td>05:24:08</td>\n",
       "      <td>0 days 17:10:55</td>\n",
       "      <td>1030.900000</td>\n",
       "      <td>47</td>\n",
       "      <td>Older Adult</td>\n",
       "      <td>Afternoon</td>\n",
       "    </tr>\n",
       "    <tr>\n",
       "      <th>3</th>\n",
       "      <td>36490</td>\n",
       "      <td>375.0</td>\n",
       "      <td>Grove St at Masonic Ave</td>\n",
       "      <td>70.0</td>\n",
       "      <td>Central Ave at Fell St</td>\n",
       "      <td>6638</td>\n",
       "      <td>Subscriber</td>\n",
       "      <td>1989</td>\n",
       "      <td>Other</td>\n",
       "      <td>No</td>\n",
       "      <td>...</td>\n",
       "      <td>2019-03-01</td>\n",
       "      <td>Thu</td>\n",
       "      <td>Fri</td>\n",
       "      <td>17:54:26</td>\n",
       "      <td>04:02:36</td>\n",
       "      <td>0 days 10:08:10</td>\n",
       "      <td>608.166667</td>\n",
       "      <td>30</td>\n",
       "      <td>Young adult</td>\n",
       "      <td>Night</td>\n",
       "    </tr>\n",
       "    <tr>\n",
       "      <th>4</th>\n",
       "      <td>1585</td>\n",
       "      <td>7.0</td>\n",
       "      <td>Frank H Ogawa Plaza</td>\n",
       "      <td>222.0</td>\n",
       "      <td>10th Ave at E 15th St</td>\n",
       "      <td>4898</td>\n",
       "      <td>Subscriber</td>\n",
       "      <td>1974</td>\n",
       "      <td>Male</td>\n",
       "      <td>Yes</td>\n",
       "      <td>...</td>\n",
       "      <td>2019-03-01</td>\n",
       "      <td>Thu</td>\n",
       "      <td>Fri</td>\n",
       "      <td>23:54:18</td>\n",
       "      <td>00:20:44</td>\n",
       "      <td>0 days 00:26:26</td>\n",
       "      <td>26.416667</td>\n",
       "      <td>45</td>\n",
       "      <td>Young adult</td>\n",
       "      <td>Night</td>\n",
       "    </tr>\n",
       "    <tr>\n",
       "      <th>5</th>\n",
       "      <td>1793</td>\n",
       "      <td>93.0</td>\n",
       "      <td>4th St at Mission Bay Blvd S</td>\n",
       "      <td>323.0</td>\n",
       "      <td>Broadway at Kearny</td>\n",
       "      <td>5200</td>\n",
       "      <td>Subscriber</td>\n",
       "      <td>1959</td>\n",
       "      <td>Male</td>\n",
       "      <td>No</td>\n",
       "      <td>...</td>\n",
       "      <td>2019-03-01</td>\n",
       "      <td>Thu</td>\n",
       "      <td>Fri</td>\n",
       "      <td>23:49:58</td>\n",
       "      <td>00:19:51</td>\n",
       "      <td>0 days 00:29:53</td>\n",
       "      <td>29.883333</td>\n",
       "      <td>60</td>\n",
       "      <td>Older Adult</td>\n",
       "      <td>Night</td>\n",
       "    </tr>\n",
       "    <tr>\n",
       "      <th>...</th>\n",
       "      <td>...</td>\n",
       "      <td>...</td>\n",
       "      <td>...</td>\n",
       "      <td>...</td>\n",
       "      <td>...</td>\n",
       "      <td>...</td>\n",
       "      <td>...</td>\n",
       "      <td>...</td>\n",
       "      <td>...</td>\n",
       "      <td>...</td>\n",
       "      <td>...</td>\n",
       "      <td>...</td>\n",
       "      <td>...</td>\n",
       "      <td>...</td>\n",
       "      <td>...</td>\n",
       "      <td>...</td>\n",
       "      <td>...</td>\n",
       "      <td>...</td>\n",
       "      <td>...</td>\n",
       "      <td>...</td>\n",
       "      <td>...</td>\n",
       "    </tr>\n",
       "    <tr>\n",
       "      <th>183407</th>\n",
       "      <td>480</td>\n",
       "      <td>27.0</td>\n",
       "      <td>Beale St at Harrison St</td>\n",
       "      <td>324.0</td>\n",
       "      <td>Union Square (Powell St at Post St)</td>\n",
       "      <td>4832</td>\n",
       "      <td>Subscriber</td>\n",
       "      <td>1996</td>\n",
       "      <td>Male</td>\n",
       "      <td>No</td>\n",
       "      <td>...</td>\n",
       "      <td>2019-02-01</td>\n",
       "      <td>Fri</td>\n",
       "      <td>Fri</td>\n",
       "      <td>00:04:49</td>\n",
       "      <td>00:12:50</td>\n",
       "      <td>0 days 00:08:01</td>\n",
       "      <td>8.000000</td>\n",
       "      <td>23</td>\n",
       "      <td>Adolescent</td>\n",
       "      <td>Mid-Night</td>\n",
       "    </tr>\n",
       "    <tr>\n",
       "      <th>183408</th>\n",
       "      <td>313</td>\n",
       "      <td>21.0</td>\n",
       "      <td>Montgomery St BART Station (Market St at 2nd St)</td>\n",
       "      <td>66.0</td>\n",
       "      <td>3rd St at Townsend St</td>\n",
       "      <td>4960</td>\n",
       "      <td>Subscriber</td>\n",
       "      <td>1984</td>\n",
       "      <td>Male</td>\n",
       "      <td>No</td>\n",
       "      <td>...</td>\n",
       "      <td>2019-02-01</td>\n",
       "      <td>Fri</td>\n",
       "      <td>Fri</td>\n",
       "      <td>00:05:34</td>\n",
       "      <td>00:10:48</td>\n",
       "      <td>0 days 00:05:14</td>\n",
       "      <td>5.216667</td>\n",
       "      <td>35</td>\n",
       "      <td>Young adult</td>\n",
       "      <td>Mid-Night</td>\n",
       "    </tr>\n",
       "    <tr>\n",
       "      <th>183409</th>\n",
       "      <td>141</td>\n",
       "      <td>278.0</td>\n",
       "      <td>The Alameda at Bush St</td>\n",
       "      <td>277.0</td>\n",
       "      <td>Morrison Ave at Julian St</td>\n",
       "      <td>3824</td>\n",
       "      <td>Subscriber</td>\n",
       "      <td>1990</td>\n",
       "      <td>Male</td>\n",
       "      <td>Yes</td>\n",
       "      <td>...</td>\n",
       "      <td>2019-02-01</td>\n",
       "      <td>Fri</td>\n",
       "      <td>Fri</td>\n",
       "      <td>00:06:05</td>\n",
       "      <td>00:08:27</td>\n",
       "      <td>0 days 00:02:22</td>\n",
       "      <td>2.350000</td>\n",
       "      <td>29</td>\n",
       "      <td>Young adult</td>\n",
       "      <td>Mid-Night</td>\n",
       "    </tr>\n",
       "    <tr>\n",
       "      <th>183410</th>\n",
       "      <td>139</td>\n",
       "      <td>220.0</td>\n",
       "      <td>San Pablo Ave at MLK Jr Way</td>\n",
       "      <td>216.0</td>\n",
       "      <td>San Pablo Ave at 27th St</td>\n",
       "      <td>5095</td>\n",
       "      <td>Subscriber</td>\n",
       "      <td>1988</td>\n",
       "      <td>Male</td>\n",
       "      <td>No</td>\n",
       "      <td>...</td>\n",
       "      <td>2019-02-01</td>\n",
       "      <td>Fri</td>\n",
       "      <td>Fri</td>\n",
       "      <td>00:05:34</td>\n",
       "      <td>00:07:54</td>\n",
       "      <td>0 days 00:02:20</td>\n",
       "      <td>2.316667</td>\n",
       "      <td>31</td>\n",
       "      <td>Young adult</td>\n",
       "      <td>Mid-Night</td>\n",
       "    </tr>\n",
       "    <tr>\n",
       "      <th>183411</th>\n",
       "      <td>271</td>\n",
       "      <td>24.0</td>\n",
       "      <td>Spear St at Folsom St</td>\n",
       "      <td>37.0</td>\n",
       "      <td>2nd St at Folsom St</td>\n",
       "      <td>1057</td>\n",
       "      <td>Subscriber</td>\n",
       "      <td>1989</td>\n",
       "      <td>Male</td>\n",
       "      <td>No</td>\n",
       "      <td>...</td>\n",
       "      <td>2019-02-01</td>\n",
       "      <td>Fri</td>\n",
       "      <td>Fri</td>\n",
       "      <td>00:00:20</td>\n",
       "      <td>00:04:52</td>\n",
       "      <td>0 days 00:04:32</td>\n",
       "      <td>4.516667</td>\n",
       "      <td>30</td>\n",
       "      <td>Young adult</td>\n",
       "      <td>Mid-Night</td>\n",
       "    </tr>\n",
       "  </tbody>\n",
       "</table>\n",
       "<p>174875 rows × 23 columns</p>\n",
       "</div>"
      ],
      "text/plain": [
       "        duration_sec  start_station_id  \\\n",
       "0              52185              21.0   \n",
       "2              61854              86.0   \n",
       "3              36490             375.0   \n",
       "4               1585               7.0   \n",
       "5               1793              93.0   \n",
       "...              ...               ...   \n",
       "183407           480              27.0   \n",
       "183408           313              21.0   \n",
       "183409           141             278.0   \n",
       "183410           139             220.0   \n",
       "183411           271              24.0   \n",
       "\n",
       "                                      start_station_name  end_station_id  \\\n",
       "0       Montgomery St BART Station (Market St at 2nd St)            13.0   \n",
       "2                                Market St at Dolores St             3.0   \n",
       "3                                Grove St at Masonic Ave            70.0   \n",
       "4                                    Frank H Ogawa Plaza           222.0   \n",
       "5                           4th St at Mission Bay Blvd S           323.0   \n",
       "...                                                  ...             ...   \n",
       "183407                           Beale St at Harrison St           324.0   \n",
       "183408  Montgomery St BART Station (Market St at 2nd St)            66.0   \n",
       "183409                            The Alameda at Bush St           277.0   \n",
       "183410                       San Pablo Ave at MLK Jr Way           216.0   \n",
       "183411                             Spear St at Folsom St            37.0   \n",
       "\n",
       "                                    end_station_name  bike_id   user_type  \\\n",
       "0                     Commercial St at Montgomery St     4902    Customer   \n",
       "2       Powell St BART Station (Market St at 4th St)     5905    Customer   \n",
       "3                             Central Ave at Fell St     6638  Subscriber   \n",
       "4                              10th Ave at E 15th St     4898  Subscriber   \n",
       "5                                 Broadway at Kearny     5200  Subscriber   \n",
       "...                                              ...      ...         ...   \n",
       "183407           Union Square (Powell St at Post St)     4832  Subscriber   \n",
       "183408                         3rd St at Townsend St     4960  Subscriber   \n",
       "183409                     Morrison Ave at Julian St     3824  Subscriber   \n",
       "183410                      San Pablo Ave at 27th St     5095  Subscriber   \n",
       "183411                           2nd St at Folsom St     1057  Subscriber   \n",
       "\n",
       "        member_birth_year member_gender bike_share_for_all_trip  ...  \\\n",
       "0                    1984          Male                      No  ...   \n",
       "2                    1972          Male                      No  ...   \n",
       "3                    1989         Other                      No  ...   \n",
       "4                    1974          Male                     Yes  ...   \n",
       "5                    1959          Male                      No  ...   \n",
       "...                   ...           ...                     ...  ...   \n",
       "183407               1996          Male                      No  ...   \n",
       "183408               1984          Male                      No  ...   \n",
       "183409               1990          Male                     Yes  ...   \n",
       "183410               1988          Male                      No  ...   \n",
       "183411               1989          Male                      No  ...   \n",
       "\n",
       "          end_date  start_day end_day start_timee end_timee         start_h  \\\n",
       "0       2019-03-01        Thu     Fri    17:32:10  08:01:55 0 days 14:29:45   \n",
       "2       2019-03-01        Thu     Fri    12:13:13  05:24:08 0 days 17:10:55   \n",
       "3       2019-03-01        Thu     Fri    17:54:26  04:02:36 0 days 10:08:10   \n",
       "4       2019-03-01        Thu     Fri    23:54:18  00:20:44 0 days 00:26:26   \n",
       "5       2019-03-01        Thu     Fri    23:49:58  00:19:51 0 days 00:29:53   \n",
       "...            ...        ...     ...         ...       ...             ...   \n",
       "183407  2019-02-01        Fri     Fri    00:04:49  00:12:50 0 days 00:08:01   \n",
       "183408  2019-02-01        Fri     Fri    00:05:34  00:10:48 0 days 00:05:14   \n",
       "183409  2019-02-01        Fri     Fri    00:06:05  00:08:27 0 days 00:02:22   \n",
       "183410  2019-02-01        Fri     Fri    00:05:34  00:07:54 0 days 00:02:20   \n",
       "183411  2019-02-01        Fri     Fri    00:00:20  00:04:52 0 days 00:04:32   \n",
       "\n",
       "       minute_duration member_age    age_group  Time_of_day  \n",
       "0           869.750000         35  Young adult        Night  \n",
       "2          1030.900000         47  Older Adult    Afternoon  \n",
       "3           608.166667         30  Young adult        Night  \n",
       "4            26.416667         45  Young adult        Night  \n",
       "5            29.883333         60  Older Adult        Night  \n",
       "...                ...        ...          ...          ...  \n",
       "183407        8.000000         23   Adolescent    Mid-Night  \n",
       "183408        5.216667         35  Young adult    Mid-Night  \n",
       "183409        2.350000         29  Young adult    Mid-Night  \n",
       "183410        2.316667         31  Young adult    Mid-Night  \n",
       "183411        4.516667         30  Young adult    Mid-Night  \n",
       "\n",
       "[174875 rows x 23 columns]"
      ]
     },
     "execution_count": 26,
     "metadata": {},
     "output_type": "execute_result"
    }
   ],
   "source": [
    "age_less_90"
   ]
  },
  {
   "cell_type": "code",
   "execution_count": 27,
   "id": "95251950",
   "metadata": {
    "slideshow": {
     "slide_type": "slide"
    }
   },
   "outputs": [
    {
     "data": {
      "image/png": "[encoded data removed]",
      "text/plain": [
       "<Figure size 576x864 with 6 Axes>"
      ]
     },
     "metadata": {
      "needs_background": "light"
     },
     "output_type": "display_data"
    }
   ],
   "source": [
    "# let's plot all three together to get an idea of each ordinal variable's distribution.\n",
    "\n",
    "fig, ax = plt.subplots(nrows=6,figsize = [8,12])\n",
    "\n",
    "default_color = sns.color_palette()[0]\n",
    "sns.countplot(data = age_less_90, x = 'user_type', color = default_color, ax = ax[0])\n",
    "sns.countplot(data = age_less_90, x = 'member_gender', color = default_color, ax = ax[1])\n",
    "sns.countplot(data =age_less_90, x = 'Time_of_day', color = default_color, ax = ax[2])\n",
    "sns.countplot(data =age_less_90, x = 'age_group', color = default_color, ax = ax[3])\n",
    "sns.countplot(data =age_less_90, x = 'start_day', color = default_color, ax = ax[4])\n",
    "sns.countplot(data =age_less_90, x = 'end_day', color = default_color, ax = ax[5])\n",
    "plt.show()"
   ]
  },
  {
   "cell_type": "markdown",
   "id": "90465090",
   "metadata": {
    "slideshow": {
     "slide_type": "subslide"
    }
   },
   "source": [
    "Subscribers tend to have taken more rides.With a count rate of above 150,000.\n",
    "Most of these subscribers were young adult males and most of these rides were taken at night.\n",
    "Let's try other plots and properly investigate the dataset before drawing colcusions.\n",
    "\n",
    "\n",
    "The time_of_day column has been categorised below:\n",
    "12am-4:59am='Mid-Night'\n",
    "5am-12pm= 'Morning'\n",
    "12:01pm-4pm='Afternoon'\n",
    "4pm-11:59pm='Night'\n",
    "\n",
    "\n",
    "\n",
    "The age group column has been categorised below:\n",
    "Child: 0 - 13 years\n",
    "Adolescent: 14 - 24 years\n",
    "Middle-aged Adult: 25 - 45 years\n",
    "Old-aged Adult: 46 - 64 years\n",
    "Postwar: >=65 years\n",
    "\n",
    "\n",
    "For the age group distribution, most of the bike riders are Young Adults with over 120,000 riders with both Older adults and Adolescents topping the bar with about 20,000 riders respectively. \n",
    "\n",
    "\n",
    "From the 'start_day' countplot,most rides started on Thursdays followed by tuesdays with both having avove 30,000 rides.Thursdays had the most rides, with Saturday and Sunday relatively having the least rides.\n",
    "\n",
    "Most rides occurred in the morning and night.Midnight has the least rides.\n",
    "\n",
    "The other plots show that most bike riders are male with males accounting for over 120,000 rides more than thrice the value for females, while most rides were from solo rides from paying subscribers."
   ]
  },
  {
   "cell_type": "markdown",
   "id": "755d04ad",
   "metadata": {
    "slideshow": {
     "slide_type": "slide"
    }
   },
   "source": [
    "## Discuss the distribution(s) of your variable(s) of interest. Were there any unusual points? Did you need to perform any transformations?"
   ]
  },
  {
   "cell_type": "markdown",
   "id": "46a33f95",
   "metadata": {
    "slideshow": {
     "slide_type": "subslide"
    }
   },
   "source": [
    "The duration of rides in seconds had a long range of values and was transformed using a log scale afterwhich the duration showed a unimodal distribution peak values ranging between 500-800 seconds and having a normal distribution.\n",
    "\n",
    "Most rides occurred on thursdays followed by tuesdays with both having avove 30,000 rides and weekends having the least.\n",
    "\n",
    "\n",
    "\n",
    "Outliers were filtered out of the member_age column by setting an age limit of 90years old."
   ]
  },
  {
   "cell_type": "markdown",
   "id": "da83b2a1",
   "metadata": {
    "slideshow": {
     "slide_type": "skip"
    }
   },
   "source": [
    "## Of the features you investigated, were there any unusual distributions? Did you perform any operations on the data to tidy, adjust, or change the form of the data? If so, why did you do this?"
   ]
  },
  {
   "cell_type": "markdown",
   "id": "1337ba82",
   "metadata": {
    "slideshow": {
     "slide_type": "skip"
    }
   },
   "source": [
    "    Outliers were filtered out of the member_age column by setting an age limit of 90years old.\n",
    "    A log scale transformation was used to normalize the duration_sec column."
   ]
  },
  {
   "cell_type": "markdown",
   "id": "992ca220",
   "metadata": {
    "slideshow": {
     "slide_type": "skip"
    }
   },
   "source": [
    "## Bivariate Analysis"
   ]
  },
  {
   "cell_type": "code",
   "execution_count": 28,
   "id": "086a6eaf",
   "metadata": {
    "slideshow": {
     "slide_type": "skip"
    }
   },
   "outputs": [
    {
     "data": {
      "text/html": [
       "<div>\n",
       "<style scoped>\n",
       "    .dataframe tbody tr th:only-of-type {\n",
       "        vertical-align: middle;\n",
       "    }\n",
       "\n",
       "    .dataframe tbody tr th {\n",
       "        vertical-align: top;\n",
       "    }\n",
       "\n",
       "    .dataframe thead th {\n",
       "        text-align: right;\n",
       "    }\n",
       "</style>\n",
       "<table border=\"1\" class=\"dataframe\">\n",
       "  <thead>\n",
       "    <tr style=\"text-align: right;\">\n",
       "      <th></th>\n",
       "      <th>duration_sec</th>\n",
       "      <th>start_station_id</th>\n",
       "      <th>end_station_id</th>\n",
       "      <th>bike_id</th>\n",
       "      <th>member_birth_year</th>\n",
       "      <th>start_month</th>\n",
       "      <th>end_month</th>\n",
       "      <th>minute_duration</th>\n",
       "      <th>member_age</th>\n",
       "    </tr>\n",
       "    <tr>\n",
       "      <th>member_gender</th>\n",
       "      <th></th>\n",
       "      <th></th>\n",
       "      <th></th>\n",
       "      <th></th>\n",
       "      <th></th>\n",
       "      <th></th>\n",
       "      <th></th>\n",
       "      <th></th>\n",
       "      <th></th>\n",
       "    </tr>\n",
       "  </thead>\n",
       "  <tbody>\n",
       "    <tr>\n",
       "      <th>Female</th>\n",
       "      <td>778.872761</td>\n",
       "      <td>138.107046</td>\n",
       "      <td>136.301630</td>\n",
       "      <td>4397.113565</td>\n",
       "      <td>1985.776302</td>\n",
       "      <td>2.0</td>\n",
       "      <td>2.000049</td>\n",
       "      <td>12.981213</td>\n",
       "      <td>33.223698</td>\n",
       "    </tr>\n",
       "    <tr>\n",
       "      <th>Male</th>\n",
       "      <td>672.394851</td>\n",
       "      <td>138.894529</td>\n",
       "      <td>136.305908</td>\n",
       "      <td>4507.615885</td>\n",
       "      <td>1984.546383</td>\n",
       "      <td>2.0</td>\n",
       "      <td>2.000077</td>\n",
       "      <td>11.206581</td>\n",
       "      <td>34.453617</td>\n",
       "    </tr>\n",
       "    <tr>\n",
       "      <th>Other</th>\n",
       "      <td>997.328489</td>\n",
       "      <td>152.867014</td>\n",
       "      <td>150.676995</td>\n",
       "      <td>4543.341376</td>\n",
       "      <td>1983.102002</td>\n",
       "      <td>2.0</td>\n",
       "      <td>2.000548</td>\n",
       "      <td>16.622141</td>\n",
       "      <td>35.897998</td>\n",
       "    </tr>\n",
       "  </tbody>\n",
       "</table>\n",
       "</div>"
      ],
      "text/plain": [
       "               duration_sec  start_station_id  end_station_id      bike_id  \\\n",
       "member_gender                                                                \n",
       "Female           778.872761        138.107046      136.301630  4397.113565   \n",
       "Male             672.394851        138.894529      136.305908  4507.615885   \n",
       "Other            997.328489        152.867014      150.676995  4543.341376   \n",
       "\n",
       "               member_birth_year  start_month  end_month  minute_duration  \\\n",
       "member_gender                                                               \n",
       "Female               1985.776302          2.0   2.000049        12.981213   \n",
       "Male                 1984.546383          2.0   2.000077        11.206581   \n",
       "Other                1983.102002          2.0   2.000548        16.622141   \n",
       "\n",
       "               member_age  \n",
       "member_gender              \n",
       "Female          33.223698  \n",
       "Male            34.453617  \n",
       "Other           35.897998  "
      ]
     },
     "execution_count": 28,
     "metadata": {},
     "output_type": "execute_result"
    },
    {
     "data": {
      "image/png": "[encoded data removed]",
      "text/plain": [
       "<Figure size 432x288 with 1 Axes>"
      ]
     },
     "metadata": {
      "needs_background": "light"
     },
     "output_type": "display_data"
    }
   ],
   "source": [
    "#mean age of all genders.\n",
    "\n",
    "\n",
    "mean_age_by_gender=ford.groupby(by=['member_gender']).mean()\n",
    "mean_age_by_gender\n",
    "\n",
    "sns.barplot(x=mean_age_by_gender.index, y=mean_age_by_gender['member_age'], data=mean_age_by_gender)\n",
    "plt.xlabel('member_gender')\n",
    "plt.ylabel('member_age')\n",
    "plt.title('mean_age_by_gender')\n",
    "mean_age_by_gender\n"
   ]
  },
  {
   "cell_type": "markdown",
   "id": "6a11f648",
   "metadata": {
    "slideshow": {
     "slide_type": "skip"
    }
   },
   "source": [
    "    The 'other' gender type has a higher mean as compared to other genders but have a lower count rate of 3467.This high mean could be attributed to the member_ages that make up the 'other' gender."
   ]
  },
  {
   "cell_type": "code",
   "execution_count": 29,
   "id": "eba130b0",
   "metadata": {
    "slideshow": {
     "slide_type": "slide"
    }
   },
   "outputs": [
    {
     "data": {
      "image/png": "[encoded data removed]",
      "text/plain": [
       "<Figure size 576x720 with 3 Axes>"
      ]
     },
     "metadata": {
      "needs_background": "light"
     },
     "output_type": "display_data"
    }
   ],
   "source": [
    "# let's plot all three together to get an idea of each ordinal variable's distribution.\n",
    "\n",
    "fig, ax = plt.subplots(nrows=3, figsize = [8,10])\n",
    "\n",
    "default_color = sns.color_palette()[0]\n",
    "sns.countplot(data = ford, x = 'user_type', color = default_color,hue='Time_of_day', ax = ax[0],palette='GnBu')\n",
    "sns.countplot(data = ford, x = 'member_gender', color = default_color, ax = ax[1],hue='Time_of_day',palette='terrain')\n",
    "sns.countplot(data = ford, x = 'member_gender', color = default_color, ax = ax[2],hue='Time_of_day',palette='twilight_shifted')\n",
    "\n",
    "plt.show()"
   ]
  },
  {
   "cell_type": "markdown",
   "id": "9e387e37",
   "metadata": {
    "slideshow": {
     "slide_type": "subslide"
    }
   },
   "source": [
    "Subscribers tend to have taken more rides.Most of these subscribers were males and most of these rides were taken at \n",
    "    night.Mid-night has the least rides  but morning riders seem to have a high count rate.Let's try other plots and properly \n",
    "    investigate the dataset before drawing colcusions."
   ]
  },
  {
   "cell_type": "code",
   "execution_count": 30,
   "id": "c2d1f72d",
   "metadata": {
    "slideshow": {
     "slide_type": "skip"
    }
   },
   "outputs": [
    {
     "data": {
      "text/plain": [
       "Male      130500\n",
       "Female     40805\n",
       "Other       3647\n",
       "Name: member_gender, dtype: int64"
      ]
     },
     "execution_count": 30,
     "metadata": {},
     "output_type": "execute_result"
    },
    {
     "data": {
      "image/png": "[encoded data removed]",
      "text/plain": [
       "<Figure size 432x288 with 1 Axes>"
      ]
     },
     "metadata": {
      "needs_background": "light"
     },
     "output_type": "display_data"
    }
   ],
   "source": [
    "#to know the number of each gender type in the dataset\n",
    "\n",
    "sns.countplot(x=ford['member_gender'],data=ford, color='skyblue')\n",
    "plt.title('Gender count')\n",
    "\n",
    "ford['member_gender'].value_counts()"
   ]
  },
  {
   "cell_type": "markdown",
   "id": "5c4fd314",
   "metadata": {
    "slideshow": {
     "slide_type": "skip"
    }
   },
   "source": [
    " There are More male Gender with a count rate of over 120,000 users in the dataset as compared to the female and 'other' gender.Though, the female gender is \n",
    "       lessthan 1/3 the male gender."
   ]
  },
  {
   "cell_type": "code",
   "execution_count": 31,
   "id": "c06dcee0",
   "metadata": {
    "slideshow": {
     "slide_type": "slide"
    }
   },
   "outputs": [
    {
     "data": {
      "text/plain": [
       "Text(0.5, 1.0, 'User Type & Gender with the most rides')"
      ]
     },
     "execution_count": 31,
     "metadata": {},
     "output_type": "execute_result"
    },
    {
     "data": {
      "image/png": "[encoded data removed]",
      "text/plain": [
       "<Figure size 432x288 with 1 Axes>"
      ]
     },
     "metadata": {
      "needs_background": "light"
     },
     "output_type": "display_data"
    }
   ],
   "source": [
    "#which user type had the most rides and of which gender was it?\n",
    "sns.countplot(x=ford['member_gender'],data=ford,hue=ford['user_type'])\n",
    "plt.title('User Type & Gender with the most rides')"
   ]
  },
  {
   "cell_type": "markdown",
   "id": "85b74218",
   "metadata": {
    "slideshow": {
     "slide_type": "subslide"
    }
   },
   "source": [
    " There were more male riders as compared to the remaing genders and they were subscribers. This is not suprising seeing \n",
    "    that  male gender makes up a large percentage of the dataset.There seems to be more female subscribers too.In my opinion, i think the 'subscriber' user type package has a lot of appealing benefits attached to it."
   ]
  },
  {
   "cell_type": "code",
   "execution_count": 32,
   "id": "66ad7244",
   "metadata": {
    "slideshow": {
     "slide_type": "skip"
    }
   },
   "outputs": [
    {
     "data": {
      "image/png": "[encoded data removed]",
      "text/plain": [
       "<Figure size 432x288 with 1 Axes>"
      ]
     },
     "metadata": {
      "needs_background": "light"
     },
     "output_type": "display_data"
    }
   ],
   "source": [
    "# which gender spent less than 200 mins on each trip?\n",
    "#30mins=1800 seconds\n",
    "less_than_200=ford.query('minute_duration < 200')\n",
    "x=less_than_200['member_gender'].value_counts()\n",
    "x\n",
    "sns.countplot(data=less_than_200,x='member_gender',hue='user_type')\n",
    "plt.title('Less than 200 minute riders')\n",
    "less_than_200\n",
    "i=less_than_200[['member_age','member_gender']].value_counts()\n",
    "\n",
    "\n"
   ]
  },
  {
   "cell_type": "code",
   "execution_count": 33,
   "id": "90349467",
   "metadata": {
    "slideshow": {
     "slide_type": "slide"
    }
   },
   "outputs": [
    {
     "name": "stderr",
     "output_type": "stream",
     "text": [
      "C:\\Users\\ASPIRE 5\\New folder\\lib\\site-packages\\seaborn\\_decorators.py:36: FutureWarning: Pass the following variables as keyword args: x, y. From version 0.12, the only valid positional argument will be `data`, and passing other arguments without an explicit keyword will result in an error or misinterpretation.\n",
      "  warnings.warn(\n"
     ]
    },
    {
     "data": {
      "text/html": [
       "<div>\n",
       "<style scoped>\n",
       "    .dataframe tbody tr th:only-of-type {\n",
       "        vertical-align: middle;\n",
       "    }\n",
       "\n",
       "    .dataframe tbody tr th {\n",
       "        vertical-align: top;\n",
       "    }\n",
       "\n",
       "    .dataframe thead th {\n",
       "        text-align: right;\n",
       "    }\n",
       "</style>\n",
       "<table border=\"1\" class=\"dataframe\">\n",
       "  <thead>\n",
       "    <tr style=\"text-align: right;\">\n",
       "      <th></th>\n",
       "      <th>duration_sec</th>\n",
       "      <th>start_station_id</th>\n",
       "      <th>end_station_id</th>\n",
       "      <th>bike_id</th>\n",
       "      <th>member_birth_year</th>\n",
       "      <th>start_month</th>\n",
       "      <th>end_month</th>\n",
       "      <th>start_h</th>\n",
       "      <th>minute_duration</th>\n",
       "      <th>member_age</th>\n",
       "    </tr>\n",
       "  </thead>\n",
       "  <tbody>\n",
       "    <tr>\n",
       "      <th>count</th>\n",
       "      <td>174952.000000</td>\n",
       "      <td>174952.000000</td>\n",
       "      <td>174952.000000</td>\n",
       "      <td>174952.000000</td>\n",
       "      <td>174952.000000</td>\n",
       "      <td>174952.0</td>\n",
       "      <td>174952.000000</td>\n",
       "      <td>174952</td>\n",
       "      <td>174952.000000</td>\n",
       "      <td>174952.000000</td>\n",
       "    </tr>\n",
       "    <tr>\n",
       "      <th>mean</th>\n",
       "      <td>704.002744</td>\n",
       "      <td>139.002126</td>\n",
       "      <td>136.604486</td>\n",
       "      <td>4482.587555</td>\n",
       "      <td>1984.803135</td>\n",
       "      <td>2.0</td>\n",
       "      <td>2.000080</td>\n",
       "      <td>0 days 00:11:44.501326078</td>\n",
       "      <td>11.733379</td>\n",
       "      <td>34.196865</td>\n",
       "    </tr>\n",
       "    <tr>\n",
       "      <th>std</th>\n",
       "      <td>1642.204905</td>\n",
       "      <td>111.648819</td>\n",
       "      <td>111.335635</td>\n",
       "      <td>1659.195937</td>\n",
       "      <td>10.118731</td>\n",
       "      <td>0.0</td>\n",
       "      <td>0.008945</td>\n",
       "      <td>0 days 00:27:22.204747215</td>\n",
       "      <td>27.370082</td>\n",
       "      <td>10.118731</td>\n",
       "    </tr>\n",
       "    <tr>\n",
       "      <th>min</th>\n",
       "      <td>61.000000</td>\n",
       "      <td>3.000000</td>\n",
       "      <td>3.000000</td>\n",
       "      <td>11.000000</td>\n",
       "      <td>1878.000000</td>\n",
       "      <td>2.0</td>\n",
       "      <td>2.000000</td>\n",
       "      <td>0 days 00:01:01</td>\n",
       "      <td>1.016667</td>\n",
       "      <td>18.000000</td>\n",
       "    </tr>\n",
       "    <tr>\n",
       "      <th>25%</th>\n",
       "      <td>323.000000</td>\n",
       "      <td>47.000000</td>\n",
       "      <td>44.000000</td>\n",
       "      <td>3799.000000</td>\n",
       "      <td>1980.000000</td>\n",
       "      <td>2.0</td>\n",
       "      <td>2.000000</td>\n",
       "      <td>0 days 00:05:23</td>\n",
       "      <td>5.383333</td>\n",
       "      <td>27.000000</td>\n",
       "    </tr>\n",
       "    <tr>\n",
       "      <th>50%</th>\n",
       "      <td>510.000000</td>\n",
       "      <td>104.000000</td>\n",
       "      <td>101.000000</td>\n",
       "      <td>4960.000000</td>\n",
       "      <td>1987.000000</td>\n",
       "      <td>2.0</td>\n",
       "      <td>2.000000</td>\n",
       "      <td>0 days 00:08:31</td>\n",
       "      <td>8.500000</td>\n",
       "      <td>32.000000</td>\n",
       "    </tr>\n",
       "    <tr>\n",
       "      <th>75%</th>\n",
       "      <td>789.000000</td>\n",
       "      <td>239.000000</td>\n",
       "      <td>238.000000</td>\n",
       "      <td>5505.000000</td>\n",
       "      <td>1992.000000</td>\n",
       "      <td>2.0</td>\n",
       "      <td>2.000000</td>\n",
       "      <td>0 days 00:13:09</td>\n",
       "      <td>13.150000</td>\n",
       "      <td>39.000000</td>\n",
       "    </tr>\n",
       "    <tr>\n",
       "      <th>max</th>\n",
       "      <td>84548.000000</td>\n",
       "      <td>398.000000</td>\n",
       "      <td>398.000000</td>\n",
       "      <td>6645.000000</td>\n",
       "      <td>2001.000000</td>\n",
       "      <td>2.0</td>\n",
       "      <td>3.000000</td>\n",
       "      <td>0 days 23:29:08</td>\n",
       "      <td>1409.133333</td>\n",
       "      <td>141.000000</td>\n",
       "    </tr>\n",
       "  </tbody>\n",
       "</table>\n",
       "</div>"
      ],
      "text/plain": [
       "        duration_sec  start_station_id  end_station_id        bike_id  \\\n",
       "count  174952.000000     174952.000000   174952.000000  174952.000000   \n",
       "mean      704.002744        139.002126      136.604486    4482.587555   \n",
       "std      1642.204905        111.648819      111.335635    1659.195937   \n",
       "min        61.000000          3.000000        3.000000      11.000000   \n",
       "25%       323.000000         47.000000       44.000000    3799.000000   \n",
       "50%       510.000000        104.000000      101.000000    4960.000000   \n",
       "75%       789.000000        239.000000      238.000000    5505.000000   \n",
       "max     84548.000000        398.000000      398.000000    6645.000000   \n",
       "\n",
       "       member_birth_year  start_month      end_month  \\\n",
       "count      174952.000000     174952.0  174952.000000   \n",
       "mean         1984.803135          2.0       2.000080   \n",
       "std            10.118731          0.0       0.008945   \n",
       "min          1878.000000          2.0       2.000000   \n",
       "25%          1980.000000          2.0       2.000000   \n",
       "50%          1987.000000          2.0       2.000000   \n",
       "75%          1992.000000          2.0       2.000000   \n",
       "max          2001.000000          2.0       3.000000   \n",
       "\n",
       "                         start_h  minute_duration     member_age  \n",
       "count                     174952    174952.000000  174952.000000  \n",
       "mean   0 days 00:11:44.501326078        11.733379      34.196865  \n",
       "std    0 days 00:27:22.204747215        27.370082      10.118731  \n",
       "min              0 days 00:01:01         1.016667      18.000000  \n",
       "25%              0 days 00:05:23         5.383333      27.000000  \n",
       "50%              0 days 00:08:31         8.500000      32.000000  \n",
       "75%              0 days 00:13:09        13.150000      39.000000  \n",
       "max              0 days 23:29:08      1409.133333     141.000000  "
      ]
     },
     "execution_count": 33,
     "metadata": {},
     "output_type": "execute_result"
    },
    {
     "data": {
      "image/png": "[encoded data removed]",
      "text/plain": [
       "<Figure size 432x288 with 1 Axes>"
      ]
     },
     "metadata": {
      "needs_background": "light"
     },
     "output_type": "display_data"
    }
   ],
   "source": [
    "\n",
    "ford.corr()\n",
    "sns.scatterplot(ford['member_age'], ford['minute_duration'])\n",
    "ford.corr()\n",
    "ford.describe()\n"
   ]
  },
  {
   "cell_type": "markdown",
   "id": "ece9ea75",
   "metadata": {
    "slideshow": {
     "slide_type": "subslide"
    }
   },
   "source": [
    "    The scatterplot shows a non-linear negative correlation between the member_age and duration_sec.\n",
    "    Although more members in their 30's spent below 200 minutes cycling.This value is way above the 3rd quartile of the \n",
    "    minute_duration column."
   ]
  },
  {
   "cell_type": "code",
   "execution_count": 34,
   "id": "39f9635f",
   "metadata": {
    "slideshow": {
     "slide_type": "skip"
    }
   },
   "outputs": [
    {
     "data": {
      "text/plain": [
       "<AxesSubplot:xlabel='member_age', ylabel='Count'>"
      ]
     },
     "execution_count": 34,
     "metadata": {},
     "output_type": "execute_result"
    },
    {
     "data": {
      "image/png": "[encoded data removed]",
      "text/plain": [
       "<Figure size 432x288 with 1 Axes>"
      ]
     },
     "metadata": {
      "needs_background": "light"
     },
     "output_type": "display_data"
    }
   ],
   "source": [
    "\n",
    "gt=ford.groupby(by=['minute_duration','member_age']).sum().sort_values(by='duration_sec').reset_index()\n",
    "co=gt[['member_age','duration_sec']]\n",
    "sns.histplot(data=co,x='member_age',bins=30,kde=True)\n",
    "\n",
    "\n",
    "#sns.histplot(data=ford, x='minute_duration',bins=)"
   ]
  },
  {
   "cell_type": "code",
   "execution_count": 35,
   "id": "f07234c4",
   "metadata": {
    "slideshow": {
     "slide_type": "slide"
    }
   },
   "outputs": [
    {
     "data": {
      "text/plain": [
       "member_age  member_gender\n",
       "30          Male             66\n",
       "29          Male             50\n",
       "34          Male             45\n",
       "35          Male             45\n",
       "31          Male             42\n",
       "                             ..\n",
       "32          Other             1\n",
       "31          Other             1\n",
       "23          Other             1\n",
       "22          Other             1\n",
       "78          Male              1\n",
       "Length: 118, dtype: int64"
      ]
     },
     "execution_count": 35,
     "metadata": {},
     "output_type": "execute_result"
    },
    {
     "data": {
      "image/png": "[encoded data removed]",
      "text/plain": [
       "<Figure size 576x432 with 1 Axes>"
      ]
     },
     "metadata": {
      "needs_background": "light"
     },
     "output_type": "display_data"
    }
   ],
   "source": [
    "#riders who spent more than 1 hour riding and their gender considerd\n",
    "ford.describe()\n",
    "An_hour_rides=ford.query('duration_sec > 3600')\n",
    "An_hour_ride=An_hour_rides[['member_age','member_gender']]\n",
    "\n",
    "plt.figure(figsize=[8,6])\n",
    "sns.histplot(data=An_hour_ride,x='member_age', hue='member_gender',bins=80)\n",
    "An_hour_ride.value_counts(ascending=False)"
   ]
  },
  {
   "cell_type": "markdown",
   "id": "32cb234d",
   "metadata": {
    "slideshow": {
     "slide_type": "subslide"
    }
   },
   "source": [
    "    From the histogram above, there were more 30-31 year old males that cycled for 1 hour, followed by a few more females as compared to the 'other' gender.No child rides were detected here,i'll confidently conclude that it's an adult sport."
   ]
  },
  {
   "cell_type": "code",
   "execution_count": 36,
   "id": "f2de67e9",
   "metadata": {
    "slideshow": {
     "slide_type": "skip"
    }
   },
   "outputs": [
    {
     "data": {
      "text/plain": [
       "Index(['duration_sec', 'start_station_id', 'start_station_name',\n",
       "       'end_station_id', 'end_station_name', 'bike_id', 'user_type',\n",
       "       'member_birth_year', 'member_gender', 'bike_share_for_all_trip',\n",
       "       'start_month', 'end_month', 'start_date', 'end_date', 'start_day',\n",
       "       'end_day', 'start_timee', 'end_timee', 'start_h', 'minute_duration',\n",
       "       'member_age', 'age_group', 'Time_of_day'],\n",
       "      dtype='object')"
      ]
     },
     "execution_count": 36,
     "metadata": {},
     "output_type": "execute_result"
    }
   ],
   "source": [
    "ford.columns"
   ]
  },
  {
   "cell_type": "code",
   "execution_count": 38,
   "id": "9288e8a4",
   "metadata": {
    "slideshow": {
     "slide_type": "slide"
    }
   },
   "outputs": [
    {
     "name": "stdout",
     "output_type": "stream",
     "text": [
      "42.777132987976074\n",
      "37.368786334991455\n",
      "18.614812195301056\n",
      "1.2392695061862469\n"
     ]
    },
    {
     "data": {
      "image/png": "[encoded data removed]",
      "text/plain": [
       "<Figure size 648x720 with 1 Axes>"
      ]
     },
     "metadata": {},
     "output_type": "display_data"
    }
   ],
   "source": [
    "\n",
    "def my_ft(x):\n",
    "    print(x)\n",
    "    return '{:.1f}%\\n({:.0f})'.format(x, total*x/100)\n",
    "\n",
    "values =ford['Time_of_day']\n",
    "v_counts = ford['Time_of_day'].value_counts()\n",
    "total = len(values)\n",
    "plt.figure(figsize=(9,10))\n",
    "plt.pie(v_counts, labels=v_counts.index, autopct=my_ft, shadow=True)\n",
    "plt.show()\n",
    "plt.title('')\n"
   ]
  },
  {
   "cell_type": "markdown",
   "id": "c1b799a8",
   "metadata": {
    "slideshow": {
     "slide_type": "subslide"
    }
   },
   "source": [
    "From the pie chart above it can be infered that most rides were taken at night with a percentage value of 42.8% of the overall dataset.Wow! This provides a business opportunity in sales of bike Night gears,safety bike apps and tracking systems.As compared to other times of the day,midnight was the least.Thic could be attributed to different reasons ranging from work schedule,station proximity, street/park traffic e.t.c"
   ]
  },
  {
   "cell_type": "code",
   "execution_count": 80,
   "id": "f2068717",
   "metadata": {
    "slideshow": {
     "slide_type": "skip"
    }
   },
   "outputs": [
    {
     "name": "stderr",
     "output_type": "stream",
     "text": [
      "C:\\Users\\ASPIRE~1\\AppData\\Local\\Temp/ipykernel_1384/2753419794.py:5: FutureWarning: Dropping invalid columns in DataFrameGroupBy.max is deprecated. In a future version, a TypeError will be raised. Before calling .max, select only columns which should be valid for the function.\n",
      "  fd=ff.groupby(by='member_age').max()\n"
     ]
    },
    {
     "data": {
      "text/plain": [
       "Text(0.5, 1.0, 'Ages of riders that ended at end_station 70')"
      ]
     },
     "execution_count": 80,
     "metadata": {},
     "output_type": "execute_result"
    },
    {
     "data": {
      "image/png": "[encoded data removed]",
      "text/plain": [
       "<Figure size 432x288 with 1 Axes>"
      ]
     },
     "metadata": {
      "needs_background": "light"
     },
     "output_type": "display_data"
    }
   ],
   "source": [
    "\n",
    "#Ages of individual genders that ended their trips at endstation 70\n",
    "\n",
    "ff=ford.query('end_station_id==70')\n",
    "ff\n",
    "fd=ff.groupby(by='member_age').max()\n",
    "plt.hist(data=ff,x='member_age',bins=60)\n",
    "plt.xlabel('member_age')\n",
    "plt.ylabel('count')\n",
    "plt.title('Ages of riders that ended at end_station 70')\n"
   ]
  },
  {
   "cell_type": "markdown",
   "id": "7e359aaf",
   "metadata": {
    "slideshow": {
     "slide_type": "skip"
    }
   },
   "source": [
    " From the histogram,with a bin size of 60, the distribution appears to be a bit uniformly distributed.Ages in the range \n",
    "    32-35 show a maximum peak.Interestingly, there's a steep jump in frequency right after 30 years, rather than a smooth\n",
    "    ramp up.There are very few adolescsents at age 20.More efforts & strategies should be implemented to encourage their participation.Let's see the top 5 stations that were mostly frequented by these users that were mostly males."
   ]
  },
  {
   "cell_type": "markdown",
   "id": "4b6e50ae",
   "metadata": {
    "slideshow": {
     "slide_type": "skip"
    }
   },
   "source": [
    "Top 5 end stations with the most night riders?\n"
   ]
  },
  {
   "cell_type": "code",
   "execution_count": 40,
   "id": "c7bf6bde",
   "metadata": {
    "slideshow": {
     "slide_type": "skip"
    }
   },
   "outputs": [
    {
     "data": {
      "text/plain": [
       "Text(0.5, 1.0, 'Member_age count')"
      ]
     },
     "execution_count": 40,
     "metadata": {},
     "output_type": "execute_result"
    },
    {
     "data": {
      "image/png": "[encoded data removed]",
      "text/plain": [
       "<Figure size 576x360 with 1 Axes>"
      ]
     },
     "metadata": {
      "needs_background": "light"
     },
     "output_type": "display_data"
    }
   ],
   "source": [
    "plt.figure(figsize=[8,5])\n",
    "sns.histplot(data=age_less_90,x='member_age',kde=True,hue='user_type')\n",
    "plt.grid()\n",
    "plt.title('Member_age count')"
   ]
  },
  {
   "cell_type": "markdown",
   "id": "d5e200e2",
   "metadata": {
    "slideshow": {
     "slide_type": "subslide"
    }
   },
   "source": [
    "There are more subscribers than customers with 2 peak ages at 26years and 30years."
   ]
  },
  {
   "cell_type": "code",
   "execution_count": 83,
   "id": "efe963ab",
   "metadata": {
    "slideshow": {
     "slide_type": "subslide"
    }
   },
   "outputs": [
    {
     "data": {
      "text/plain": [
       "San Francisco Caltrain Station 2  (Townsend St at 4th St)    4624\n",
       "Market St at 10th St                                         3709\n",
       "Montgomery St BART Station (Market St at 2nd St)             3461\n",
       "San Francisco Ferry Building (Harry Bridges Plaza)           3151\n",
       "San Francisco Caltrain (Townsend St at 4th St)               2870\n",
       "Name: end_station_name, dtype: int64"
      ]
     },
     "execution_count": 83,
     "metadata": {},
     "output_type": "execute_result"
    }
   ],
   "source": [
    "#most frequented end station\n",
    "nn=ford['end_station_id'].value_counts()\n",
    "nnn=nn.head(5)\n",
    "n=nnn.index\n",
    "tt=ford[ford['end_station_id'].isin(n)]\n",
    "tst=tt['end_station_name'].value_counts()\n",
    "tst"
   ]
  },
  {
   "cell_type": "code",
   "execution_count": 84,
   "id": "e23e2bb3",
   "metadata": {
    "slideshow": {
     "slide_type": "slide"
    }
   },
   "outputs": [
    {
     "data": {
      "text/plain": [
       "Text(0.5, 1.0, 'top 5 endstations ')"
      ]
     },
     "execution_count": 84,
     "metadata": {},
     "output_type": "execute_result"
    },
    {
     "data": {
      "image/png": "[encoded data removed]",
      "text/plain": [
       "<Figure size 576x720 with 1 Axes>"
      ]
     },
     "metadata": {
      "needs_background": "light"
     },
     "output_type": "display_data"
    }
   ],
   "source": [
    "plt.figure(figsize=[8,10])\n",
    "sns.countplot(data=tt, y='end_station_name')\n",
    "sns.despine()\n",
    "plt.title('top 5 endstations ')"
   ]
  },
  {
   "cell_type": "code",
   "execution_count": 81,
   "id": "ecf8f1e4",
   "metadata": {
    "slideshow": {
     "slide_type": "subslide"
    }
   },
   "outputs": [
    {
     "data": {
      "text/plain": [
       "Market St at 10th St                                  3709\n",
       "Montgomery St BART Station (Market St at 2nd St)      3461\n",
       "San Francisco Ferry Building (Harry Bridges Plaza)    3151\n",
       "Powell St BART Station (Market St at 4th St)          2854\n",
       "Powell St BART Station (Market St at 5th St)          2153\n",
       "Name: end_station_name, dtype: int64"
      ]
     },
     "execution_count": 81,
     "metadata": {},
     "output_type": "execute_result"
    }
   ],
   "source": [
    "#end station with the highest afternoon rides\n",
    "Afternoon=ford[ford['Time_of_day']=='Afternoon']\n",
    "nn=Afternoon['end_station_id'].value_counts()\n",
    "nnn=nn.head(5)\n",
    "n=nnn.index\n",
    "tt=ford[ford['end_station_id'].isin(n)]\n",
    "tst=tt['end_station_name'].value_counts()\n",
    "tst"
   ]
  },
  {
   "cell_type": "code",
   "execution_count": 82,
   "id": "1be81df9",
   "metadata": {
    "slideshow": {
     "slide_type": "slide"
    }
   },
   "outputs": [
    {
     "data": {
      "text/plain": [
       "Text(0.5, 1.0, 'top 5 Afternoon endstations ')"
      ]
     },
     "execution_count": 82,
     "metadata": {},
     "output_type": "execute_result"
    },
    {
     "data": {
      "image/png": "[encoded data removed]",
      "text/plain": [
       "<Figure size 576x720 with 1 Axes>"
      ]
     },
     "metadata": {
      "needs_background": "light"
     },
     "output_type": "display_data"
    }
   ],
   "source": [
    "plt.figure(figsize=[8,10])\n",
    "sns.countplot(data=tt, y='end_station_name')\n",
    "sns.despine()\n",
    "plt.title('top 5 Afternoon endstations ')"
   ]
  },
  {
   "cell_type": "markdown",
   "id": "17e1f422",
   "metadata": {
    "slideshow": {
     "slide_type": "slide"
    }
   },
   "source": [
    "   The top 5 endstations with the highest number of afternoon riders terminating their rides are:\n",
    "\n",
    "    Market St at 10th St                                  3709\n",
    "    Montgomery St BART Station (Market St at 2nd St)      3461\n",
    "    San Francisco Ferry Building (Harry Bridges Plaza)    3151\n",
    "    Powell St BART Station (Market St at 4th St)          2854\n",
    "    Powell St BART Station (Market St at 5th St)          2153"
   ]
  },
  {
   "cell_type": "markdown",
   "id": "486a0d5d",
   "metadata": {
    "slideshow": {
     "slide_type": "subslide"
    }
   },
   "source": [
    "'San Francisco Caltrain Station 2  (Townsend St at 4th St)' endtation is the most frequented endstation but for afternoon riders, the most frequented endstation happens to be 'Market St at 10th St'"
   ]
  },
  {
   "cell_type": "code",
   "execution_count": 69,
   "id": "975b1a30",
   "metadata": {
    "slideshow": {
     "slide_type": "skip"
    }
   },
   "outputs": [
    {
     "data": {
      "text/plain": [
       "Text(0.5, 1.0, 'bike share for all user types')"
      ]
     },
     "execution_count": 69,
     "metadata": {},
     "output_type": "execute_result"
    },
    {
     "data": {
      "image/png": "[encoded data removed]",
      "text/plain": [
       "<Figure size 432x432 with 1 Axes>"
      ]
     },
     "metadata": {
      "needs_background": "light"
     },
     "output_type": "display_data"
    }
   ],
   "source": [
    "plt.figure(figsize=[6,6])\n",
    "sns.barplot(y=np.log10(age_less_90['minute_duration']), x=age_less_90['user_type'], hue=age_less_90['bike_share_for_all_trip'],ci=None)\n",
    "plt.title('bike share for all user types')"
   ]
  },
  {
   "cell_type": "markdown",
   "id": "6099963b",
   "metadata": {
    "slideshow": {
     "slide_type": "skip"
    }
   },
   "source": [
    "from the plot,Customers seem to have not shared bikes.This is not surprising because i'm also thimking it's because the customers might be tourists or temporary people that come and go unlike subscribers that have riders that shared bikes."
   ]
  },
  {
   "cell_type": "code",
   "execution_count": 78,
   "id": "fb4a657c",
   "metadata": {
    "slideshow": {
     "slide_type": "skip"
    }
   },
   "outputs": [
    {
     "data": {
      "text/html": [
       "<div>\n",
       "<style scoped>\n",
       "    .dataframe tbody tr th:only-of-type {\n",
       "        vertical-align: middle;\n",
       "    }\n",
       "\n",
       "    .dataframe tbody tr th {\n",
       "        vertical-align: top;\n",
       "    }\n",
       "\n",
       "    .dataframe thead th {\n",
       "        text-align: right;\n",
       "    }\n",
       "</style>\n",
       "<table border=\"1\" class=\"dataframe\">\n",
       "  <thead>\n",
       "    <tr style=\"text-align: right;\">\n",
       "      <th></th>\n",
       "      <th>duration_sec</th>\n",
       "      <th>start_station_id</th>\n",
       "      <th>start_station_name</th>\n",
       "      <th>end_station_id</th>\n",
       "      <th>end_station_name</th>\n",
       "      <th>bike_id</th>\n",
       "      <th>user_type</th>\n",
       "      <th>member_birth_year</th>\n",
       "      <th>member_gender</th>\n",
       "      <th>bike_share_for_all_trip</th>\n",
       "      <th>...</th>\n",
       "      <th>end_date</th>\n",
       "      <th>start_day</th>\n",
       "      <th>end_day</th>\n",
       "      <th>start_timee</th>\n",
       "      <th>end_timee</th>\n",
       "      <th>start_h</th>\n",
       "      <th>minute_duration</th>\n",
       "      <th>member_age</th>\n",
       "      <th>age_group</th>\n",
       "      <th>Time_of_day</th>\n",
       "    </tr>\n",
       "  </thead>\n",
       "  <tbody>\n",
       "    <tr>\n",
       "      <th>0</th>\n",
       "      <td>52185</td>\n",
       "      <td>21.0</td>\n",
       "      <td>Montgomery St BART Station (Market St at 2nd St)</td>\n",
       "      <td>13.0</td>\n",
       "      <td>Commercial St at Montgomery St</td>\n",
       "      <td>4902</td>\n",
       "      <td>Customer</td>\n",
       "      <td>1984</td>\n",
       "      <td>Male</td>\n",
       "      <td>No</td>\n",
       "      <td>...</td>\n",
       "      <td>2019-03-01</td>\n",
       "      <td>Thu</td>\n",
       "      <td>Fri</td>\n",
       "      <td>17:32:10</td>\n",
       "      <td>08:01:55</td>\n",
       "      <td>0 days 14:29:45</td>\n",
       "      <td>869.750000</td>\n",
       "      <td>35</td>\n",
       "      <td>Young adult</td>\n",
       "      <td>Night</td>\n",
       "    </tr>\n",
       "    <tr>\n",
       "      <th>2</th>\n",
       "      <td>61854</td>\n",
       "      <td>86.0</td>\n",
       "      <td>Market St at Dolores St</td>\n",
       "      <td>3.0</td>\n",
       "      <td>Powell St BART Station (Market St at 4th St)</td>\n",
       "      <td>5905</td>\n",
       "      <td>Customer</td>\n",
       "      <td>1972</td>\n",
       "      <td>Male</td>\n",
       "      <td>No</td>\n",
       "      <td>...</td>\n",
       "      <td>2019-03-01</td>\n",
       "      <td>Thu</td>\n",
       "      <td>Fri</td>\n",
       "      <td>12:13:13</td>\n",
       "      <td>05:24:08</td>\n",
       "      <td>0 days 17:10:55</td>\n",
       "      <td>1030.900000</td>\n",
       "      <td>47</td>\n",
       "      <td>Older Adult</td>\n",
       "      <td>Afternoon</td>\n",
       "    </tr>\n",
       "    <tr>\n",
       "      <th>12</th>\n",
       "      <td>1176</td>\n",
       "      <td>127.0</td>\n",
       "      <td>Valencia St at 21st St</td>\n",
       "      <td>323.0</td>\n",
       "      <td>Broadway at Kearny</td>\n",
       "      <td>5328</td>\n",
       "      <td>Customer</td>\n",
       "      <td>1990</td>\n",
       "      <td>Male</td>\n",
       "      <td>No</td>\n",
       "      <td>...</td>\n",
       "      <td>2019-03-01</td>\n",
       "      <td>Thu</td>\n",
       "      <td>Fri</td>\n",
       "      <td>23:45:12</td>\n",
       "      <td>00:04:49</td>\n",
       "      <td>0 days 00:19:37</td>\n",
       "      <td>19.600000</td>\n",
       "      <td>29</td>\n",
       "      <td>Young adult</td>\n",
       "      <td>Night</td>\n",
       "    </tr>\n",
       "    <tr>\n",
       "      <th>19</th>\n",
       "      <td>874</td>\n",
       "      <td>180.0</td>\n",
       "      <td>Telegraph Ave at 23rd St</td>\n",
       "      <td>180.0</td>\n",
       "      <td>Telegraph Ave at 23rd St</td>\n",
       "      <td>5629</td>\n",
       "      <td>Customer</td>\n",
       "      <td>1978</td>\n",
       "      <td>Male</td>\n",
       "      <td>No</td>\n",
       "      <td>...</td>\n",
       "      <td>2019-02-28</td>\n",
       "      <td>Thu</td>\n",
       "      <td>Thu</td>\n",
       "      <td>23:43:05</td>\n",
       "      <td>23:57:39</td>\n",
       "      <td>0 days 00:14:34</td>\n",
       "      <td>14.566667</td>\n",
       "      <td>41</td>\n",
       "      <td>Young adult</td>\n",
       "      <td>Night</td>\n",
       "    </tr>\n",
       "    <tr>\n",
       "      <th>26</th>\n",
       "      <td>385</td>\n",
       "      <td>6.0</td>\n",
       "      <td>The Embarcadero at Sansome St</td>\n",
       "      <td>15.0</td>\n",
       "      <td>San Francisco Ferry Building (Harry Bridges Pl...</td>\n",
       "      <td>6531</td>\n",
       "      <td>Customer</td>\n",
       "      <td>2000</td>\n",
       "      <td>Male</td>\n",
       "      <td>No</td>\n",
       "      <td>...</td>\n",
       "      <td>2019-02-28</td>\n",
       "      <td>Thu</td>\n",
       "      <td>Thu</td>\n",
       "      <td>23:49:24</td>\n",
       "      <td>23:55:50</td>\n",
       "      <td>0 days 00:06:26</td>\n",
       "      <td>6.416667</td>\n",
       "      <td>19</td>\n",
       "      <td>Adolescent</td>\n",
       "      <td>Night</td>\n",
       "    </tr>\n",
       "    <tr>\n",
       "      <th>...</th>\n",
       "      <td>...</td>\n",
       "      <td>...</td>\n",
       "      <td>...</td>\n",
       "      <td>...</td>\n",
       "      <td>...</td>\n",
       "      <td>...</td>\n",
       "      <td>...</td>\n",
       "      <td>...</td>\n",
       "      <td>...</td>\n",
       "      <td>...</td>\n",
       "      <td>...</td>\n",
       "      <td>...</td>\n",
       "      <td>...</td>\n",
       "      <td>...</td>\n",
       "      <td>...</td>\n",
       "      <td>...</td>\n",
       "      <td>...</td>\n",
       "      <td>...</td>\n",
       "      <td>...</td>\n",
       "      <td>...</td>\n",
       "      <td>...</td>\n",
       "    </tr>\n",
       "    <tr>\n",
       "      <th>183268</th>\n",
       "      <td>284</td>\n",
       "      <td>251.0</td>\n",
       "      <td>California St at University Ave</td>\n",
       "      <td>351.0</td>\n",
       "      <td>10th St at University Ave</td>\n",
       "      <td>4628</td>\n",
       "      <td>Customer</td>\n",
       "      <td>1991</td>\n",
       "      <td>Male</td>\n",
       "      <td>No</td>\n",
       "      <td>...</td>\n",
       "      <td>2019-02-01</td>\n",
       "      <td>Fri</td>\n",
       "      <td>Fri</td>\n",
       "      <td>05:59:17</td>\n",
       "      <td>06:04:02</td>\n",
       "      <td>0 days 00:04:45</td>\n",
       "      <td>4.733333</td>\n",
       "      <td>28</td>\n",
       "      <td>Young adult</td>\n",
       "      <td>Morning</td>\n",
       "    </tr>\n",
       "    <tr>\n",
       "      <th>183290</th>\n",
       "      <td>151</td>\n",
       "      <td>28.0</td>\n",
       "      <td>The Embarcadero at Bryant St</td>\n",
       "      <td>23.0</td>\n",
       "      <td>The Embarcadero at Steuart St</td>\n",
       "      <td>5122</td>\n",
       "      <td>Customer</td>\n",
       "      <td>1991</td>\n",
       "      <td>Male</td>\n",
       "      <td>No</td>\n",
       "      <td>...</td>\n",
       "      <td>2019-02-01</td>\n",
       "      <td>Fri</td>\n",
       "      <td>Fri</td>\n",
       "      <td>05:33:14</td>\n",
       "      <td>05:35:45</td>\n",
       "      <td>0 days 00:02:31</td>\n",
       "      <td>2.516667</td>\n",
       "      <td>28</td>\n",
       "      <td>Young adult</td>\n",
       "      <td>Morning</td>\n",
       "    </tr>\n",
       "    <tr>\n",
       "      <th>183330</th>\n",
       "      <td>503</td>\n",
       "      <td>11.0</td>\n",
       "      <td>Davis St at Jackson St</td>\n",
       "      <td>368.0</td>\n",
       "      <td>Myrtle St at Polk St</td>\n",
       "      <td>5120</td>\n",
       "      <td>Customer</td>\n",
       "      <td>1995</td>\n",
       "      <td>Male</td>\n",
       "      <td>No</td>\n",
       "      <td>...</td>\n",
       "      <td>2019-02-01</td>\n",
       "      <td>Fri</td>\n",
       "      <td>Fri</td>\n",
       "      <td>02:24:27</td>\n",
       "      <td>02:32:50</td>\n",
       "      <td>0 days 00:08:23</td>\n",
       "      <td>8.383333</td>\n",
       "      <td>24</td>\n",
       "      <td>Adolescent</td>\n",
       "      <td>Mid-Night</td>\n",
       "    </tr>\n",
       "    <tr>\n",
       "      <th>183338</th>\n",
       "      <td>528</td>\n",
       "      <td>258.0</td>\n",
       "      <td>University Ave at Oxford St</td>\n",
       "      <td>274.0</td>\n",
       "      <td>Oregon St at Adeline St</td>\n",
       "      <td>342</td>\n",
       "      <td>Customer</td>\n",
       "      <td>1994</td>\n",
       "      <td>Male</td>\n",
       "      <td>No</td>\n",
       "      <td>...</td>\n",
       "      <td>2019-02-01</td>\n",
       "      <td>Fri</td>\n",
       "      <td>Fri</td>\n",
       "      <td>02:10:30</td>\n",
       "      <td>02:19:18</td>\n",
       "      <td>0 days 00:08:48</td>\n",
       "      <td>8.800000</td>\n",
       "      <td>25</td>\n",
       "      <td>Young adult</td>\n",
       "      <td>Mid-Night</td>\n",
       "    </tr>\n",
       "    <tr>\n",
       "      <th>183383</th>\n",
       "      <td>434</td>\n",
       "      <td>274.0</td>\n",
       "      <td>Oregon St at Adeline St</td>\n",
       "      <td>244.0</td>\n",
       "      <td>Shattuck Ave at Hearst Ave</td>\n",
       "      <td>4541</td>\n",
       "      <td>Customer</td>\n",
       "      <td>1997</td>\n",
       "      <td>Male</td>\n",
       "      <td>No</td>\n",
       "      <td>...</td>\n",
       "      <td>2019-02-01</td>\n",
       "      <td>Fri</td>\n",
       "      <td>Fri</td>\n",
       "      <td>00:47:11</td>\n",
       "      <td>00:54:26</td>\n",
       "      <td>0 days 00:07:15</td>\n",
       "      <td>7.233333</td>\n",
       "      <td>22</td>\n",
       "      <td>Adolescent</td>\n",
       "      <td>Mid-Night</td>\n",
       "    </tr>\n",
       "  </tbody>\n",
       "</table>\n",
       "<p>16560 rows × 23 columns</p>\n",
       "</div>"
      ],
      "text/plain": [
       "        duration_sec  start_station_id  \\\n",
       "0              52185              21.0   \n",
       "2              61854              86.0   \n",
       "12              1176             127.0   \n",
       "19               874             180.0   \n",
       "26               385               6.0   \n",
       "...              ...               ...   \n",
       "183268           284             251.0   \n",
       "183290           151              28.0   \n",
       "183330           503              11.0   \n",
       "183338           528             258.0   \n",
       "183383           434             274.0   \n",
       "\n",
       "                                      start_station_name  end_station_id  \\\n",
       "0       Montgomery St BART Station (Market St at 2nd St)            13.0   \n",
       "2                                Market St at Dolores St             3.0   \n",
       "12                                Valencia St at 21st St           323.0   \n",
       "19                              Telegraph Ave at 23rd St           180.0   \n",
       "26                         The Embarcadero at Sansome St            15.0   \n",
       "...                                                  ...             ...   \n",
       "183268                   California St at University Ave           351.0   \n",
       "183290                      The Embarcadero at Bryant St            23.0   \n",
       "183330                            Davis St at Jackson St           368.0   \n",
       "183338                       University Ave at Oxford St           274.0   \n",
       "183383                           Oregon St at Adeline St           244.0   \n",
       "\n",
       "                                         end_station_name  bike_id user_type  \\\n",
       "0                          Commercial St at Montgomery St     4902  Customer   \n",
       "2            Powell St BART Station (Market St at 4th St)     5905  Customer   \n",
       "12                                     Broadway at Kearny     5328  Customer   \n",
       "19                               Telegraph Ave at 23rd St     5629  Customer   \n",
       "26      San Francisco Ferry Building (Harry Bridges Pl...     6531  Customer   \n",
       "...                                                   ...      ...       ...   \n",
       "183268                          10th St at University Ave     4628  Customer   \n",
       "183290                      The Embarcadero at Steuart St     5122  Customer   \n",
       "183330                               Myrtle St at Polk St     5120  Customer   \n",
       "183338                            Oregon St at Adeline St      342  Customer   \n",
       "183383                         Shattuck Ave at Hearst Ave     4541  Customer   \n",
       "\n",
       "        member_birth_year member_gender bike_share_for_all_trip  ...  \\\n",
       "0                    1984          Male                      No  ...   \n",
       "2                    1972          Male                      No  ...   \n",
       "12                   1990          Male                      No  ...   \n",
       "19                   1978          Male                      No  ...   \n",
       "26                   2000          Male                      No  ...   \n",
       "...                   ...           ...                     ...  ...   \n",
       "183268               1991          Male                      No  ...   \n",
       "183290               1991          Male                      No  ...   \n",
       "183330               1995          Male                      No  ...   \n",
       "183338               1994          Male                      No  ...   \n",
       "183383               1997          Male                      No  ...   \n",
       "\n",
       "          end_date  start_day end_day start_timee end_timee         start_h  \\\n",
       "0       2019-03-01        Thu     Fri    17:32:10  08:01:55 0 days 14:29:45   \n",
       "2       2019-03-01        Thu     Fri    12:13:13  05:24:08 0 days 17:10:55   \n",
       "12      2019-03-01        Thu     Fri    23:45:12  00:04:49 0 days 00:19:37   \n",
       "19      2019-02-28        Thu     Thu    23:43:05  23:57:39 0 days 00:14:34   \n",
       "26      2019-02-28        Thu     Thu    23:49:24  23:55:50 0 days 00:06:26   \n",
       "...            ...        ...     ...         ...       ...             ...   \n",
       "183268  2019-02-01        Fri     Fri    05:59:17  06:04:02 0 days 00:04:45   \n",
       "183290  2019-02-01        Fri     Fri    05:33:14  05:35:45 0 days 00:02:31   \n",
       "183330  2019-02-01        Fri     Fri    02:24:27  02:32:50 0 days 00:08:23   \n",
       "183338  2019-02-01        Fri     Fri    02:10:30  02:19:18 0 days 00:08:48   \n",
       "183383  2019-02-01        Fri     Fri    00:47:11  00:54:26 0 days 00:07:15   \n",
       "\n",
       "       minute_duration member_age    age_group  Time_of_day  \n",
       "0           869.750000         35  Young adult        Night  \n",
       "2          1030.900000         47  Older Adult    Afternoon  \n",
       "12           19.600000         29  Young adult        Night  \n",
       "19           14.566667         41  Young adult        Night  \n",
       "26            6.416667         19   Adolescent        Night  \n",
       "...                ...        ...          ...          ...  \n",
       "183268        4.733333         28  Young adult      Morning  \n",
       "183290        2.516667         28  Young adult      Morning  \n",
       "183330        8.383333         24   Adolescent    Mid-Night  \n",
       "183338        8.800000         25  Young adult    Mid-Night  \n",
       "183383        7.233333         22   Adolescent    Mid-Night  \n",
       "\n",
       "[16560 rows x 23 columns]"
      ]
     },
     "execution_count": 78,
     "metadata": {},
     "output_type": "execute_result"
    }
   ],
   "source": [
    "age_less_90[(age_less_90['user_type']=='Customer') & (age_less_90['bike_share_for_all_trip']=='No')]"
   ]
  },
  {
   "cell_type": "markdown",
   "id": "43ac3b89",
   "metadata": {
    "slideshow": {
     "slide_type": "skip"
    }
   },
   "source": [
    "###### The average minute rides taken with the user type?"
   ]
  },
  {
   "cell_type": "code",
   "execution_count": 79,
   "id": "0ff4042a",
   "metadata": {
    "slideshow": {
     "slide_type": "slide"
    }
   },
   "outputs": [
    {
     "data": {
      "text/plain": [
       "Text(0.5, 1.0, 'The average minute rides taken with the user type')"
      ]
     },
     "execution_count": 79,
     "metadata": {},
     "output_type": "execute_result"
    },
    {
     "data": {
      "image/png": "[encoded data removed]",
      "text/plain": [
       "<Figure size 432x432 with 1 Axes>"
      ]
     },
     "metadata": {
      "needs_background": "light"
     },
     "output_type": "display_data"
    }
   ],
   "source": [
    "plt.figure(figsize=[6,6])\n",
    "sns.barplot(y=np.log10(age_less_90['minute_duration']), x=age_less_90['user_type'], hue=age_less_90['Time_of_day'],ci=None)\n",
    "plt.title('The average minute rides taken with the user type')"
   ]
  },
  {
   "cell_type": "code",
   "execution_count": 44,
   "id": "4e144e46",
   "metadata": {
    "slideshow": {
     "slide_type": "skip"
    }
   },
   "outputs": [
    {
     "data": {
      "text/plain": [
       "Index(['duration_sec', 'start_station_id', 'start_station_name',\n",
       "       'end_station_id', 'end_station_name', 'bike_id', 'user_type',\n",
       "       'member_birth_year', 'member_gender', 'bike_share_for_all_trip',\n",
       "       'start_month', 'end_month', 'start_date', 'end_date', 'start_day',\n",
       "       'end_day', 'start_timee', 'end_timee', 'start_h', 'minute_duration',\n",
       "       'member_age', 'age_group', 'Time_of_day'],\n",
       "      dtype='object')"
      ]
     },
     "execution_count": 44,
     "metadata": {},
     "output_type": "execute_result"
    }
   ],
   "source": [
    "age_less_90.columns"
   ]
  },
  {
   "cell_type": "markdown",
   "id": "44e5641a",
   "metadata": {
    "slideshow": {
     "slide_type": "skip"
    }
   },
   "source": [
    "After applying a log function Customers had the highest average minute rides with a mean minute duration of 25 minutes and these rides occured mostly in the afternoon.This is interesting because customers had the least rides in the overall dataset as compared to subscribers.In my opinion, this high mean could be attributed to the fact that though they had less rides, they spent more time riding in minutes hence, the high  mean.Midnight customers also also spent more time riding."
   ]
  },
  {
   "cell_type": "code",
   "execution_count": 45,
   "id": "abafe26d",
   "metadata": {
    "slideshow": {
     "slide_type": "skip"
    }
   },
   "outputs": [
    {
     "data": {
      "text/html": [
       "<div>\n",
       "<style scoped>\n",
       "    .dataframe tbody tr th:only-of-type {\n",
       "        vertical-align: middle;\n",
       "    }\n",
       "\n",
       "    .dataframe tbody tr th {\n",
       "        vertical-align: top;\n",
       "    }\n",
       "\n",
       "    .dataframe thead th {\n",
       "        text-align: right;\n",
       "    }\n",
       "</style>\n",
       "<table border=\"1\" class=\"dataframe\">\n",
       "  <thead>\n",
       "    <tr style=\"text-align: right;\">\n",
       "      <th></th>\n",
       "      <th>duration_sec</th>\n",
       "      <th>start_station_id</th>\n",
       "      <th>start_station_name</th>\n",
       "      <th>end_station_id</th>\n",
       "      <th>end_station_name</th>\n",
       "      <th>bike_id</th>\n",
       "      <th>user_type</th>\n",
       "      <th>member_birth_year</th>\n",
       "      <th>member_gender</th>\n",
       "      <th>bike_share_for_all_trip</th>\n",
       "      <th>...</th>\n",
       "      <th>end_date</th>\n",
       "      <th>start_day</th>\n",
       "      <th>end_day</th>\n",
       "      <th>start_timee</th>\n",
       "      <th>end_timee</th>\n",
       "      <th>start_h</th>\n",
       "      <th>minute_duration</th>\n",
       "      <th>member_age</th>\n",
       "      <th>age_group</th>\n",
       "      <th>Time_of_day</th>\n",
       "    </tr>\n",
       "  </thead>\n",
       "  <tbody>\n",
       "    <tr>\n",
       "      <th>0</th>\n",
       "      <td>52185</td>\n",
       "      <td>21.0</td>\n",
       "      <td>Montgomery St BART Station (Market St at 2nd St)</td>\n",
       "      <td>13.0</td>\n",
       "      <td>Commercial St at Montgomery St</td>\n",
       "      <td>4902</td>\n",
       "      <td>Customer</td>\n",
       "      <td>1984</td>\n",
       "      <td>Male</td>\n",
       "      <td>No</td>\n",
       "      <td>...</td>\n",
       "      <td>2019-03-01</td>\n",
       "      <td>Thu</td>\n",
       "      <td>Fri</td>\n",
       "      <td>17:32:10</td>\n",
       "      <td>08:01:55</td>\n",
       "      <td>0 days 14:29:45</td>\n",
       "      <td>869.750000</td>\n",
       "      <td>35</td>\n",
       "      <td>Young adult</td>\n",
       "      <td>Night</td>\n",
       "    </tr>\n",
       "    <tr>\n",
       "      <th>2</th>\n",
       "      <td>61854</td>\n",
       "      <td>86.0</td>\n",
       "      <td>Market St at Dolores St</td>\n",
       "      <td>3.0</td>\n",
       "      <td>Powell St BART Station (Market St at 4th St)</td>\n",
       "      <td>5905</td>\n",
       "      <td>Customer</td>\n",
       "      <td>1972</td>\n",
       "      <td>Male</td>\n",
       "      <td>No</td>\n",
       "      <td>...</td>\n",
       "      <td>2019-03-01</td>\n",
       "      <td>Thu</td>\n",
       "      <td>Fri</td>\n",
       "      <td>12:13:13</td>\n",
       "      <td>05:24:08</td>\n",
       "      <td>0 days 17:10:55</td>\n",
       "      <td>1030.900000</td>\n",
       "      <td>47</td>\n",
       "      <td>Older Adult</td>\n",
       "      <td>Afternoon</td>\n",
       "    </tr>\n",
       "    <tr>\n",
       "      <th>3</th>\n",
       "      <td>36490</td>\n",
       "      <td>375.0</td>\n",
       "      <td>Grove St at Masonic Ave</td>\n",
       "      <td>70.0</td>\n",
       "      <td>Central Ave at Fell St</td>\n",
       "      <td>6638</td>\n",
       "      <td>Subscriber</td>\n",
       "      <td>1989</td>\n",
       "      <td>Other</td>\n",
       "      <td>No</td>\n",
       "      <td>...</td>\n",
       "      <td>2019-03-01</td>\n",
       "      <td>Thu</td>\n",
       "      <td>Fri</td>\n",
       "      <td>17:54:26</td>\n",
       "      <td>04:02:36</td>\n",
       "      <td>0 days 10:08:10</td>\n",
       "      <td>608.166667</td>\n",
       "      <td>30</td>\n",
       "      <td>Young adult</td>\n",
       "      <td>Night</td>\n",
       "    </tr>\n",
       "    <tr>\n",
       "      <th>4</th>\n",
       "      <td>1585</td>\n",
       "      <td>7.0</td>\n",
       "      <td>Frank H Ogawa Plaza</td>\n",
       "      <td>222.0</td>\n",
       "      <td>10th Ave at E 15th St</td>\n",
       "      <td>4898</td>\n",
       "      <td>Subscriber</td>\n",
       "      <td>1974</td>\n",
       "      <td>Male</td>\n",
       "      <td>Yes</td>\n",
       "      <td>...</td>\n",
       "      <td>2019-03-01</td>\n",
       "      <td>Thu</td>\n",
       "      <td>Fri</td>\n",
       "      <td>23:54:18</td>\n",
       "      <td>00:20:44</td>\n",
       "      <td>0 days 00:26:26</td>\n",
       "      <td>26.416667</td>\n",
       "      <td>45</td>\n",
       "      <td>Young adult</td>\n",
       "      <td>Night</td>\n",
       "    </tr>\n",
       "    <tr>\n",
       "      <th>5</th>\n",
       "      <td>1793</td>\n",
       "      <td>93.0</td>\n",
       "      <td>4th St at Mission Bay Blvd S</td>\n",
       "      <td>323.0</td>\n",
       "      <td>Broadway at Kearny</td>\n",
       "      <td>5200</td>\n",
       "      <td>Subscriber</td>\n",
       "      <td>1959</td>\n",
       "      <td>Male</td>\n",
       "      <td>No</td>\n",
       "      <td>...</td>\n",
       "      <td>2019-03-01</td>\n",
       "      <td>Thu</td>\n",
       "      <td>Fri</td>\n",
       "      <td>23:49:58</td>\n",
       "      <td>00:19:51</td>\n",
       "      <td>0 days 00:29:53</td>\n",
       "      <td>29.883333</td>\n",
       "      <td>60</td>\n",
       "      <td>Older Adult</td>\n",
       "      <td>Night</td>\n",
       "    </tr>\n",
       "    <tr>\n",
       "      <th>...</th>\n",
       "      <td>...</td>\n",
       "      <td>...</td>\n",
       "      <td>...</td>\n",
       "      <td>...</td>\n",
       "      <td>...</td>\n",
       "      <td>...</td>\n",
       "      <td>...</td>\n",
       "      <td>...</td>\n",
       "      <td>...</td>\n",
       "      <td>...</td>\n",
       "      <td>...</td>\n",
       "      <td>...</td>\n",
       "      <td>...</td>\n",
       "      <td>...</td>\n",
       "      <td>...</td>\n",
       "      <td>...</td>\n",
       "      <td>...</td>\n",
       "      <td>...</td>\n",
       "      <td>...</td>\n",
       "      <td>...</td>\n",
       "      <td>...</td>\n",
       "    </tr>\n",
       "    <tr>\n",
       "      <th>183407</th>\n",
       "      <td>480</td>\n",
       "      <td>27.0</td>\n",
       "      <td>Beale St at Harrison St</td>\n",
       "      <td>324.0</td>\n",
       "      <td>Union Square (Powell St at Post St)</td>\n",
       "      <td>4832</td>\n",
       "      <td>Subscriber</td>\n",
       "      <td>1996</td>\n",
       "      <td>Male</td>\n",
       "      <td>No</td>\n",
       "      <td>...</td>\n",
       "      <td>2019-02-01</td>\n",
       "      <td>Fri</td>\n",
       "      <td>Fri</td>\n",
       "      <td>00:04:49</td>\n",
       "      <td>00:12:50</td>\n",
       "      <td>0 days 00:08:01</td>\n",
       "      <td>8.000000</td>\n",
       "      <td>23</td>\n",
       "      <td>Adolescent</td>\n",
       "      <td>Mid-Night</td>\n",
       "    </tr>\n",
       "    <tr>\n",
       "      <th>183408</th>\n",
       "      <td>313</td>\n",
       "      <td>21.0</td>\n",
       "      <td>Montgomery St BART Station (Market St at 2nd St)</td>\n",
       "      <td>66.0</td>\n",
       "      <td>3rd St at Townsend St</td>\n",
       "      <td>4960</td>\n",
       "      <td>Subscriber</td>\n",
       "      <td>1984</td>\n",
       "      <td>Male</td>\n",
       "      <td>No</td>\n",
       "      <td>...</td>\n",
       "      <td>2019-02-01</td>\n",
       "      <td>Fri</td>\n",
       "      <td>Fri</td>\n",
       "      <td>00:05:34</td>\n",
       "      <td>00:10:48</td>\n",
       "      <td>0 days 00:05:14</td>\n",
       "      <td>5.216667</td>\n",
       "      <td>35</td>\n",
       "      <td>Young adult</td>\n",
       "      <td>Mid-Night</td>\n",
       "    </tr>\n",
       "    <tr>\n",
       "      <th>183409</th>\n",
       "      <td>141</td>\n",
       "      <td>278.0</td>\n",
       "      <td>The Alameda at Bush St</td>\n",
       "      <td>277.0</td>\n",
       "      <td>Morrison Ave at Julian St</td>\n",
       "      <td>3824</td>\n",
       "      <td>Subscriber</td>\n",
       "      <td>1990</td>\n",
       "      <td>Male</td>\n",
       "      <td>Yes</td>\n",
       "      <td>...</td>\n",
       "      <td>2019-02-01</td>\n",
       "      <td>Fri</td>\n",
       "      <td>Fri</td>\n",
       "      <td>00:06:05</td>\n",
       "      <td>00:08:27</td>\n",
       "      <td>0 days 00:02:22</td>\n",
       "      <td>2.350000</td>\n",
       "      <td>29</td>\n",
       "      <td>Young adult</td>\n",
       "      <td>Mid-Night</td>\n",
       "    </tr>\n",
       "    <tr>\n",
       "      <th>183410</th>\n",
       "      <td>139</td>\n",
       "      <td>220.0</td>\n",
       "      <td>San Pablo Ave at MLK Jr Way</td>\n",
       "      <td>216.0</td>\n",
       "      <td>San Pablo Ave at 27th St</td>\n",
       "      <td>5095</td>\n",
       "      <td>Subscriber</td>\n",
       "      <td>1988</td>\n",
       "      <td>Male</td>\n",
       "      <td>No</td>\n",
       "      <td>...</td>\n",
       "      <td>2019-02-01</td>\n",
       "      <td>Fri</td>\n",
       "      <td>Fri</td>\n",
       "      <td>00:05:34</td>\n",
       "      <td>00:07:54</td>\n",
       "      <td>0 days 00:02:20</td>\n",
       "      <td>2.316667</td>\n",
       "      <td>31</td>\n",
       "      <td>Young adult</td>\n",
       "      <td>Mid-Night</td>\n",
       "    </tr>\n",
       "    <tr>\n",
       "      <th>183411</th>\n",
       "      <td>271</td>\n",
       "      <td>24.0</td>\n",
       "      <td>Spear St at Folsom St</td>\n",
       "      <td>37.0</td>\n",
       "      <td>2nd St at Folsom St</td>\n",
       "      <td>1057</td>\n",
       "      <td>Subscriber</td>\n",
       "      <td>1989</td>\n",
       "      <td>Male</td>\n",
       "      <td>No</td>\n",
       "      <td>...</td>\n",
       "      <td>2019-02-01</td>\n",
       "      <td>Fri</td>\n",
       "      <td>Fri</td>\n",
       "      <td>00:00:20</td>\n",
       "      <td>00:04:52</td>\n",
       "      <td>0 days 00:04:32</td>\n",
       "      <td>4.516667</td>\n",
       "      <td>30</td>\n",
       "      <td>Young adult</td>\n",
       "      <td>Mid-Night</td>\n",
       "    </tr>\n",
       "  </tbody>\n",
       "</table>\n",
       "<p>174952 rows × 23 columns</p>\n",
       "</div>"
      ],
      "text/plain": [
       "        duration_sec  start_station_id  \\\n",
       "0              52185              21.0   \n",
       "2              61854              86.0   \n",
       "3              36490             375.0   \n",
       "4               1585               7.0   \n",
       "5               1793              93.0   \n",
       "...              ...               ...   \n",
       "183407           480              27.0   \n",
       "183408           313              21.0   \n",
       "183409           141             278.0   \n",
       "183410           139             220.0   \n",
       "183411           271              24.0   \n",
       "\n",
       "                                      start_station_name  end_station_id  \\\n",
       "0       Montgomery St BART Station (Market St at 2nd St)            13.0   \n",
       "2                                Market St at Dolores St             3.0   \n",
       "3                                Grove St at Masonic Ave            70.0   \n",
       "4                                    Frank H Ogawa Plaza           222.0   \n",
       "5                           4th St at Mission Bay Blvd S           323.0   \n",
       "...                                                  ...             ...   \n",
       "183407                           Beale St at Harrison St           324.0   \n",
       "183408  Montgomery St BART Station (Market St at 2nd St)            66.0   \n",
       "183409                            The Alameda at Bush St           277.0   \n",
       "183410                       San Pablo Ave at MLK Jr Way           216.0   \n",
       "183411                             Spear St at Folsom St            37.0   \n",
       "\n",
       "                                    end_station_name  bike_id   user_type  \\\n",
       "0                     Commercial St at Montgomery St     4902    Customer   \n",
       "2       Powell St BART Station (Market St at 4th St)     5905    Customer   \n",
       "3                             Central Ave at Fell St     6638  Subscriber   \n",
       "4                              10th Ave at E 15th St     4898  Subscriber   \n",
       "5                                 Broadway at Kearny     5200  Subscriber   \n",
       "...                                              ...      ...         ...   \n",
       "183407           Union Square (Powell St at Post St)     4832  Subscriber   \n",
       "183408                         3rd St at Townsend St     4960  Subscriber   \n",
       "183409                     Morrison Ave at Julian St     3824  Subscriber   \n",
       "183410                      San Pablo Ave at 27th St     5095  Subscriber   \n",
       "183411                           2nd St at Folsom St     1057  Subscriber   \n",
       "\n",
       "        member_birth_year member_gender bike_share_for_all_trip  ...  \\\n",
       "0                    1984          Male                      No  ...   \n",
       "2                    1972          Male                      No  ...   \n",
       "3                    1989         Other                      No  ...   \n",
       "4                    1974          Male                     Yes  ...   \n",
       "5                    1959          Male                      No  ...   \n",
       "...                   ...           ...                     ...  ...   \n",
       "183407               1996          Male                      No  ...   \n",
       "183408               1984          Male                      No  ...   \n",
       "183409               1990          Male                     Yes  ...   \n",
       "183410               1988          Male                      No  ...   \n",
       "183411               1989          Male                      No  ...   \n",
       "\n",
       "          end_date  start_day end_day start_timee end_timee         start_h  \\\n",
       "0       2019-03-01        Thu     Fri    17:32:10  08:01:55 0 days 14:29:45   \n",
       "2       2019-03-01        Thu     Fri    12:13:13  05:24:08 0 days 17:10:55   \n",
       "3       2019-03-01        Thu     Fri    17:54:26  04:02:36 0 days 10:08:10   \n",
       "4       2019-03-01        Thu     Fri    23:54:18  00:20:44 0 days 00:26:26   \n",
       "5       2019-03-01        Thu     Fri    23:49:58  00:19:51 0 days 00:29:53   \n",
       "...            ...        ...     ...         ...       ...             ...   \n",
       "183407  2019-02-01        Fri     Fri    00:04:49  00:12:50 0 days 00:08:01   \n",
       "183408  2019-02-01        Fri     Fri    00:05:34  00:10:48 0 days 00:05:14   \n",
       "183409  2019-02-01        Fri     Fri    00:06:05  00:08:27 0 days 00:02:22   \n",
       "183410  2019-02-01        Fri     Fri    00:05:34  00:07:54 0 days 00:02:20   \n",
       "183411  2019-02-01        Fri     Fri    00:00:20  00:04:52 0 days 00:04:32   \n",
       "\n",
       "       minute_duration member_age    age_group  Time_of_day  \n",
       "0           869.750000         35  Young adult        Night  \n",
       "2          1030.900000         47  Older Adult    Afternoon  \n",
       "3           608.166667         30  Young adult        Night  \n",
       "4            26.416667         45  Young adult        Night  \n",
       "5            29.883333         60  Older Adult        Night  \n",
       "...                ...        ...          ...          ...  \n",
       "183407        8.000000         23   Adolescent    Mid-Night  \n",
       "183408        5.216667         35  Young adult    Mid-Night  \n",
       "183409        2.350000         29  Young adult    Mid-Night  \n",
       "183410        2.316667         31  Young adult    Mid-Night  \n",
       "183411        4.516667         30  Young adult    Mid-Night  \n",
       "\n",
       "[174952 rows x 23 columns]"
      ]
     },
     "execution_count": 45,
     "metadata": {},
     "output_type": "execute_result"
    }
   ],
   "source": [
    "ford"
   ]
  },
  {
   "cell_type": "markdown",
   "id": "c6c742d4",
   "metadata": {
    "slideshow": {
     "slide_type": "skip"
    }
   },
   "source": [
    "## Talk about some of the relationships you observed in this part of the investigation. How did the feature(s) of interest vary with other features in the dataset?"
   ]
  },
  {
   "cell_type": "markdown",
   "id": "13cb0437",
   "metadata": {
    "slideshow": {
     "slide_type": "skip"
    }
   },
   "source": [
    "Ages between 32-35 show a maximum indulgence in the sport of which they are mostly Middle age adults.\n",
    "\n",
    "Market St at 10th St had more afternoon riders with a count rate of 3709 of which majority of them were male subscribers.This could be attributed to a lot of reasons ranging from proximity, topographical road type etc.\n",
    "\n"
   ]
  },
  {
   "cell_type": "markdown",
   "id": "8633d608",
   "metadata": {
    "slideshow": {
     "slide_type": "skip"
    }
   },
   "source": [
    "## Did you observe any interesting relationships between the other features (not the main feature(s) of interest)?\n"
   ]
  },
  {
   "cell_type": "markdown",
   "id": "c90727c4",
   "metadata": {
    "slideshow": {
     "slide_type": "skip"
    }
   },
   "source": [
    "Most male customers spend more duration riding in the afternoon but there are more Male subscriber rides in the data.Weekends had the least number of rides with Thursday topping the bar. \n",
    "\n",
    "Between the Numerical and Categorical features there isn't much correleation but they still affect the overall dataset.\n"
   ]
  },
  {
   "cell_type": "markdown",
   "id": "02f869ca",
   "metadata": {
    "slideshow": {
     "slide_type": "skip"
    }
   },
   "source": [
    "## Multivariate Analysis\n"
   ]
  },
  {
   "cell_type": "code",
   "execution_count": 46,
   "id": "698164a2",
   "metadata": {
    "slideshow": {
     "slide_type": "skip"
    }
   },
   "outputs": [
    {
     "data": {
      "image/png": "[encoded data removed]",
      "text/plain": [
       "<Figure size 1152x288 with 3 Axes>"
      ]
     },
     "metadata": {
      "needs_background": "light"
     },
     "output_type": "display_data"
    }
   ],
   "source": [
    "#checking to see ther elationship between the 3 columns.\n",
    "fig, ax = plt.subplots(ncols=3, figsize = [16,4])\n",
    "sns.pointplot(data=age_less_90, y='duration_sec', x='member_gender', hue='bike_share_for_all_trip', ax=ax[0], linestyles = '', dodge = 0.4)\n",
    "sns.pointplot(data=age_less_90, y='duration_sec', x='user_type', hue='user_type', ax=ax[1], linestyles = '', dodge = 0.4)\n",
    "sns.pointplot(data=age_less_90, y='member_age', x='member_gender', hue='bike_share_for_all_trip', ax=ax[2], linestyles = '', dodge = 0.4)\n",
    "ax[0].set_yticks(range(0, 3))\n",
    "ax[1].set_yticks(range(0, 1500, 100))\n",
    "ax[2].set_yticks(range(0, 45, 5));"
   ]
  },
  {
   "cell_type": "code",
   "execution_count": null,
   "id": "5ec1431f",
   "metadata": {
    "slideshow": {
     "slide_type": "skip"
    }
   },
   "outputs": [],
   "source": [
    "sns.catplot(data=age_less_90, y='member_age', \n",
    "            x='member_gender',\n",
    "            hue='Time_of_day',\n",
    "            row='user_type',\n",
    "            color='blue',\n",
    "            col='age_group',\n",
    "            kind=\"violin\");"
   ]
  },
  {
   "cell_type": "markdown",
   "id": "607909ad",
   "metadata": {
    "slideshow": {
     "slide_type": "skip"
    }
   },
   "source": [
    "## Talk about some of the relationships you observed in this part of the investigation. Were there features that strengthened each other in terms of looking at your feature(s) of interest?"
   ]
  },
  {
   "cell_type": "markdown",
   "id": "435ec398",
   "metadata": {
    "slideshow": {
     "slide_type": "skip"
    }
   },
   "source": [
    "In this sectionafer plotting multivariate charts of user type against other variables by looking at the impact of the three categorical features. The multivariate exploration showed that Weekends had the least number of rides with Thursday topping the plot and there were more night riders sharing bike rides as compared to afternoon riders and middle age adults having longer rides.Customeers take longer trips than subscribers."
   ]
  },
  {
   "cell_type": "markdown",
   "id": "0e7e444d",
   "metadata": {
    "slideshow": {
     "slide_type": "skip"
    }
   },
   "source": [
    "## Were there any interesting or surprising interactions between features?"
   ]
  },
  {
   "cell_type": "code",
   "execution_count": null,
   "id": "ebbd0cab",
   "metadata": {},
   "outputs": [],
   "source": []
  },
  {
   "cell_type": "code",
   "execution_count": null,
   "id": "6a403bda",
   "metadata": {},
   "outputs": [],
   "source": []
  },
  {
   "cell_type": "markdown",
   "id": "ff075b4d",
   "metadata": {
    "slideshow": {
     "slide_type": "skip"
    }
   },
   "source": [
    "Yes!There were some interesting interactions between Afternoon riders that did not share bikes unlike the Subscribers did.I feel this is probably as a result of the rental services offered to afternoon riders who are mostly tourists.\n",
    "I also think the stations with the most rides beginning and terminating there need to be investigated to properly ascertain why these 5 top stations receive more traction.Could be due to the presence of a tourist sight or topographical land type e.t.c."
   ]
  }
 ],
 "metadata": {
  "celltoolbar": "Slideshow",
  "kernelspec": {
   "display_name": "Python 3 (ipykernel)",
   "language": "python",
   "name": "python3"
  },
  "language_info": {
   "codemirror_mode": {
    "name": "ipython",
    "version": 3
   },
   "file_extension": ".py",
   "mimetype": "text/x-python",
   "name": "python",
   "nbconvert_exporter": "python",
   "pygments_lexer": "ipython3",
   "version": "3.9.7"
  }
 },
 "nbformat": 4,
 "nbformat_minor": 5
}
